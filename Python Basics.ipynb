{
 "cells": [
  {
   "cell_type": "markdown",
   "metadata": {},
   "source": [
    "List"
   ]
  },
  {
   "cell_type": "code",
   "execution_count": 45,
   "metadata": {},
   "outputs": [
    {
     "name": "stdout",
     "output_type": "stream",
     "text": [
      "[111, 2233, 3, 4, 5, 11, 12, 3, 5, 6, 88, 77, 44, 99, 78]\n",
      "<class 'list'>\n",
      "3\n",
      "2233\n"
     ]
    }
   ],
   "source": [
    "#List are used to store multiple items in a single variable.\n",
    "#create using \"[]\"\n",
    "#Duplication is allow\n",
    "#Mutable (Changeble)\n",
    "#Indxing Supporting\n",
    "\n",
    "l1 = [111,2233,3,4,5,11,12,3,5,6,88,77,44,99,78] #Define list\n",
    "print(l1) #Print list\n",
    "print(type(l1)) #Print type of defining variable\n",
    "\n",
    "print(min(l1)) #Return min item in given list\n",
    "\n",
    "print(max(l1)) #Return max item in given list"
   ]
  },
  {
   "cell_type": "code",
   "execution_count": 6,
   "metadata": {},
   "outputs": [
    {
     "name": "stdout",
     "output_type": "stream",
     "text": [
      "[1, 3.14, 4, 1, True, False, None, 'Krupa']\n",
      "[40, [4.5, 0, False], (5, 'Krupa'), 5.6, {True, 3.14, 'Gopi'}, {'Age': 20, 'Topic': 'List'}]\n"
     ]
    }
   ],
   "source": [
    "#List is a sequntial datatype\n",
    "\n",
    "li1 = [1,3.14,4,1,True,False,None,'Krupa']\n",
    "print(li1)\n",
    "\n",
    "li2 = [40,[4.5,0,False],(5,'Krupa'),5.6,{3.14,'Gopi',True},{'Age':20,'Topic':'List'}]\n",
    "print(li2)"
   ]
  },
  {
   "cell_type": "code",
   "execution_count": 17,
   "metadata": {},
   "outputs": [
    {
     "name": "stdout",
     "output_type": "stream",
     "text": [
      "None\n",
      "None\n",
      "[1, True, 'Krupa']\n",
      "[1, False]\n",
      "[True, False, 'Krupa', None]\n",
      "[1, 3.14, True, False, 'Krupa', None]\n",
      "[None, 'Krupa', False, True, 3.14, 1]\n",
      "[True, None]\n"
     ]
    }
   ],
   "source": [
    "#Indexing - [start(0):stop(n-1):step(1)]\n",
    "\n",
    "li = [1,3.14,True,False,'Krupa',None]\n",
    "print(li[5])\n",
    "print(li[-1])\n",
    "print(li[::2])\n",
    "print(li[::3])\n",
    "print(li[2:])\n",
    "print(li[::])\n",
    "print(li[::-1])\n",
    "print(li[2:6:3])"
   ]
  },
  {
   "cell_type": "code",
   "execution_count": 18,
   "metadata": {},
   "outputs": [
    {
     "name": "stdout",
     "output_type": "stream",
     "text": [
      "[1, 5j, [1, 2, 3], [4, 5, 6]]\n",
      "[1, 5j, 3.4, [4, 5, 6]]\n"
     ]
    }
   ],
   "source": [
    "li = [1,5j,[1,2,3],[4,5,6]]\n",
    "print(li)\n",
    "li[2] = 3.4 #Replace item by using index\n",
    "print(li)"
   ]
  },
  {
   "cell_type": "code",
   "execution_count": 21,
   "metadata": {},
   "outputs": [
    {
     "name": "stdout",
     "output_type": "stream",
     "text": [
      "6\n",
      "[4, 5]\n",
      "[2, 3]\n"
     ]
    }
   ],
   "source": [
    "li = [1,5j,[1,2,3],[4,5,6]]\n",
    "print(li[3][2])\n",
    "print(li[3][:2])\n",
    "print(li[2][1:])"
   ]
  },
  {
   "cell_type": "markdown",
   "metadata": {},
   "source": [
    "List Functions"
   ]
  },
  {
   "cell_type": "code",
   "execution_count": 27,
   "metadata": {},
   "outputs": [
    {
     "name": "stdout",
     "output_type": "stream",
     "text": [
      "[1, 3.14, 34, 3j, 'string', True, False, None]\n",
      "[1, 3.14, 34, 'string', True, False, None]\n",
      "[None, False, True, 'string', 34, 3.14, 1]\n",
      "[None, False, True, 'string', 34, 3.14, 1, 'Krupa']\n"
     ]
    }
   ],
   "source": [
    "li = [1,3.14,3j,'string',True,False,None]\n",
    "\n",
    "li.insert(2,34) #In insert fun 1st arg is index_no and 2nd arg is item\n",
    "print(li)\n",
    "\n",
    "li.remove(3j) #Removing 3j item\n",
    "print(li)\n",
    "\n",
    "li.reverse() #Reversing list\n",
    "print(li)\n",
    "\n",
    "li.append('Krupa') #In append fun whatever item is there that is add in last of given list\n",
    "print(li)"
   ]
  },
  {
   "cell_type": "code",
   "execution_count": 31,
   "metadata": {},
   "outputs": [
    {
     "name": "stdout",
     "output_type": "stream",
     "text": [
      "[True, False, None, 1, 3.14, 5j, 'string']\n"
     ]
    }
   ],
   "source": [
    "li1 = [1,3.14,5j,'string']\n",
    "li2 = [True,False,None]\n",
    "\n",
    "li2.extend(li1) #Add li1 item in last of li2\n",
    "print(li2)"
   ]
  },
  {
   "cell_type": "code",
   "execution_count": 33,
   "metadata": {},
   "outputs": [
    {
     "name": "stdout",
     "output_type": "stream",
     "text": [
      "[1, 3.14, 5j, 'string', True, False, None]\n",
      "[True, False, None, 1, 3.14, 5j, 'string']\n"
     ]
    }
   ],
   "source": [
    "li1 = [1,3.14,5j,'string']\n",
    "li2 = [True,False,None]\n",
    "\n",
    "li3 = li1 + li2 #Merge both list\n",
    "print(li3)\n",
    "\n",
    "li3 = li2 + li1\n",
    "print(li3)"
   ]
  },
  {
   "cell_type": "code",
   "execution_count": 34,
   "metadata": {},
   "outputs": [
    {
     "data": {
      "text/plain": [
       "[1, 3.14, 5j]"
      ]
     },
     "execution_count": 34,
     "metadata": {},
     "output_type": "execute_result"
    }
   ],
   "source": [
    "li = [1,3.14,5j,'string']\n",
    "li.pop() #By default pop last item\n",
    "li"
   ]
  },
  {
   "cell_type": "code",
   "execution_count": 35,
   "metadata": {},
   "outputs": [
    {
     "data": {
      "text/plain": [
       "[3.14, 5j, 'string']"
      ]
     },
     "execution_count": 35,
     "metadata": {},
     "output_type": "execute_result"
    }
   ],
   "source": [
    "li = [1,3.14,5j,'string']\n",
    "li.pop(0) #pop item at 0th index\n",
    "li"
   ]
  },
  {
   "cell_type": "code",
   "execution_count": 36,
   "metadata": {},
   "outputs": [
    {
     "data": {
      "text/plain": [
       "[1, 3.14, 'string']"
      ]
     },
     "execution_count": 36,
     "metadata": {},
     "output_type": "execute_result"
    }
   ],
   "source": [
    "li = [1,3.14,5j,'string']\n",
    "li.pop(-2) #pop item at -2 index\n",
    "li"
   ]
  },
  {
   "cell_type": "code",
   "execution_count": 37,
   "metadata": {},
   "outputs": [
    {
     "data": {
      "text/plain": [
       "[0, 0.4, 2, 3.4, 4, 4, 4, 6.7, 8, 9, 12, 56, 59]"
      ]
     },
     "execution_count": 37,
     "metadata": {},
     "output_type": "execute_result"
    }
   ],
   "source": [
    "li = [4,6.7,4,8,9,0,0.4,2,4,56,12,59,3.4]\n",
    "li.sort() #Sorting list iteams\n",
    "li"
   ]
  },
  {
   "cell_type": "code",
   "execution_count": 38,
   "metadata": {},
   "outputs": [
    {
     "data": {
      "text/plain": [
       "[59, 56, 12, 9, 8, 6.7, 4, 4, 4, 3.4, 2, 0.4, 0]"
      ]
     },
     "execution_count": 38,
     "metadata": {},
     "output_type": "execute_result"
    }
   ],
   "source": [
    "li = [4,6.7,4,8,9,0,0.4,2,4,56,12,59,3.4]\n",
    "li.sort(reverse=True) #Sorting list iteams and then reverse iteams\n",
    "li"
   ]
  },
  {
   "cell_type": "code",
   "execution_count": 39,
   "metadata": {},
   "outputs": [
    {
     "name": "stdout",
     "output_type": "stream",
     "text": [
      "K/r/u/p/a\n"
     ]
    }
   ],
   "source": [
    "li = ['K','r','u','p','a']\n",
    "print('/'.join(li))"
   ]
  },
  {
   "cell_type": "code",
   "execution_count": 40,
   "metadata": {},
   "outputs": [
    {
     "name": "stdout",
     "output_type": "stream",
     "text": [
      "16\n"
     ]
    }
   ],
   "source": [
    "a = int(input('Enter a mum: ')) #Take user input\n",
    "print(a)"
   ]
  },
  {
   "cell_type": "code",
   "execution_count": 43,
   "metadata": {},
   "outputs": [
    {
     "name": "stdout",
     "output_type": "stream",
     "text": [
      "10\n",
      "23\n"
     ]
    }
   ],
   "source": [
    "a = 10\n",
    "print(a)\n",
    "\n",
    "a = int(input('Enter a mum: ')) \n",
    "print(a)"
   ]
  },
  {
   "cell_type": "markdown",
   "metadata": {},
   "source": [
    "Tuple"
   ]
  },
  {
   "cell_type": "code",
   "execution_count": 46,
   "metadata": {},
   "outputs": [
    {
     "name": "stdout",
     "output_type": "stream",
     "text": [
      "(1, 2, 3)\n",
      "<class 'tuple'>\n"
     ]
    }
   ],
   "source": [
    "#Tuple is used to store multiple items in a single variable.\n",
    "#Create using \"()\"\n",
    "#Collection in ordered\n",
    "#Immutable (Unchangeable)\n",
    "#Indexing Supporting\n",
    "\n",
    "tp =(1,2,3,) #Define tuple\n",
    "print(tp) #Print tuple\n",
    "print(type(tp)) #Print type of defining variable"
   ]
  },
  {
   "cell_type": "code",
   "execution_count": 47,
   "metadata": {},
   "outputs": [
    {
     "data": {
      "text/plain": [
       "(50, [13, 4.5, 6], (3, 'Krupa'), {2.3, 'Gopi', True}, {2: 'Apple'})"
      ]
     },
     "execution_count": 47,
     "metadata": {},
     "output_type": "execute_result"
    }
   ],
   "source": [
    "#Tuple is a sequntial datatype\n",
    "tp = (50,[13,4.5,6],(3,'Krupa'),{2.3,True,'Gopi'},{2:'Apple'})\n",
    "tp"
   ]
  },
  {
   "cell_type": "code",
   "execution_count": 60,
   "metadata": {},
   "outputs": [
    {
     "name": "stdout",
     "output_type": "stream",
     "text": [
      "50\n",
      "((3, 'Krupa'), {2: 'Apple'})\n",
      "({2: 'Apple'}, {True, 2.3, 'Gopi'}, (3, 'Krupa'), [13, 4.5, 6], 50)\n",
      "([13, 4.5, 6], {2: 'Apple'})\n",
      "Krupa\n"
     ]
    }
   ],
   "source": [
    "#Indexing in Tuple\n",
    "\n",
    "print(tp[0])\n",
    "print(tp[2::2])\n",
    "print(tp[-1:-6:-1])\n",
    "print(tp[-4:6:3])\n",
    "print(tp[2][1])\n",
    "#print(tp[3][0]) - We can not print any set or dict in tuple by indixing it gives type error"
   ]
  },
  {
   "cell_type": "markdown",
   "metadata": {},
   "source": [
    "Tuple Function"
   ]
  },
  {
   "cell_type": "code",
   "execution_count": 61,
   "metadata": {},
   "outputs": [
    {
     "name": "stdout",
     "output_type": "stream",
     "text": [
      "3\n"
     ]
    }
   ],
   "source": [
    "tp = (1,2,3,4,1,2,1,4,5)\n",
    "print(tp.count(1)) #It count how many times item repeating"
   ]
  },
  {
   "cell_type": "code",
   "execution_count": 63,
   "metadata": {},
   "outputs": [
    {
     "name": "stdout",
     "output_type": "stream",
     "text": [
      "5\n",
      "1\n"
     ]
    }
   ],
   "source": [
    "print(max(tp)) #Return max item\n",
    "\n",
    "print(min(tp)) #Return min item"
   ]
  },
  {
   "cell_type": "code",
   "execution_count": 66,
   "metadata": {},
   "outputs": [
    {
     "data": {
      "text/plain": [
       "2"
      ]
     },
     "execution_count": 66,
     "metadata": {},
     "output_type": "execute_result"
    }
   ],
   "source": [
    "tp.index(3) #Return index of item"
   ]
  },
  {
   "cell_type": "code",
   "execution_count": 67,
   "metadata": {},
   "outputs": [
    {
     "name": "stdout",
     "output_type": "stream",
     "text": [
      "9\n"
     ]
    }
   ],
   "source": [
    "print(len(tp)) #Retuen length of tuple"
   ]
  },
  {
   "cell_type": "code",
   "execution_count": 71,
   "metadata": {},
   "outputs": [
    {
     "name": "stdout",
     "output_type": "stream",
     "text": [
      "(1, 2, 3, 4, 5, 6)\n"
     ]
    }
   ],
   "source": [
    "tp1 = (1,2,3)\n",
    "tp2 = (4,5,6)\n",
    "tp1 += tp2 #Means tp1 = tp1 + tp2 adding tp2 items in tp1 in last\n",
    "print(tp1)"
   ]
  },
  {
   "cell_type": "code",
   "execution_count": 70,
   "metadata": {},
   "outputs": [
    {
     "name": "stdout",
     "output_type": "stream",
     "text": [
      "(4, 5, 6, 1, 2, 3)\n"
     ]
    }
   ],
   "source": [
    "tp1 = (1,2,3)\n",
    "tp2 = (4,5,6)\n",
    "tp2 += tp1 #Means tp2 = tp2 + tp1 adding tp1 items in tp2 in last\n",
    "print(tp2)"
   ]
  },
  {
   "cell_type": "code",
   "execution_count": 72,
   "metadata": {},
   "outputs": [
    {
     "data": {
      "text/plain": [
       "(1, 2, 3, 1, 2, 3)"
      ]
     },
     "execution_count": 72,
     "metadata": {},
     "output_type": "execute_result"
    }
   ],
   "source": [
    "tp = (1,2,3)\n",
    "tp1 = tp*2 #Repeating tuple iteams\n",
    "tp1"
   ]
  },
  {
   "cell_type": "code",
   "execution_count": 74,
   "metadata": {},
   "outputs": [
    {
     "name": "stdout",
     "output_type": "stream",
     "text": [
      "<class 'tuple'>\n",
      "[1, 2, 3]\n",
      "[1, 2, 3, 34]\n",
      "<class 'list'>\n",
      "(1, 2, 3, 34)\n",
      "<class 'tuple'>\n"
     ]
    }
   ],
   "source": [
    "tp = (1,2,3)\n",
    "print(type(tp))\n",
    "\n",
    "tp1 = list(tp) #Typecasting\n",
    "print(tp1)\n",
    "tp1.append(34)\n",
    "print(tp1)\n",
    "print(type(tp1))\n",
    "\n",
    "tp2 = tuple(tp1)\n",
    "print(tp2)\n",
    "print(type(tp2))"
   ]
  },
  {
   "cell_type": "markdown",
   "metadata": {},
   "source": [
    "Set"
   ]
  },
  {
   "cell_type": "code",
   "execution_count": 79,
   "metadata": {},
   "outputs": [
    {
     "name": "stdout",
     "output_type": "stream",
     "text": [
      "{2, 3, 4, 5, 6, 8, 9}\n"
     ]
    }
   ],
   "source": [
    "#Set is used to store multiple items in a single variable.\n",
    "#Create using \"{}\"\n",
    "#Mutable (Changeable)\n",
    "#Duplication not allow\n",
    "#Indexing not Supporting\n",
    "#Always Give sort data\n",
    "\n",
    "a = {3,2,4,2,5,8,4,9,6} #Define set\n",
    "print(a) #Print set"
   ]
  },
  {
   "cell_type": "code",
   "execution_count": 82,
   "metadata": {},
   "outputs": [
    {
     "name": "stdout",
     "output_type": "stream",
     "text": [
      "{'a', 'c', 'b', 'd'}\n"
     ]
    }
   ],
   "source": [
    "a = {'c','b','a','d'}\n",
    "print(a)"
   ]
  },
  {
   "cell_type": "markdown",
   "metadata": {},
   "source": [
    "Set Function"
   ]
  },
  {
   "cell_type": "code",
   "execution_count": 84,
   "metadata": {},
   "outputs": [
    {
     "data": {
      "text/plain": [
       "{1, 2, 3, 4, 5, 6, 7, 8}"
      ]
     },
     "execution_count": 84,
     "metadata": {},
     "output_type": "execute_result"
    }
   ],
   "source": [
    "a = {1,2,3}\n",
    "b = {2,3,4,5,6,7,8}\n",
    "a.union(b) #Merge both set"
   ]
  },
  {
   "cell_type": "code",
   "execution_count": 85,
   "metadata": {},
   "outputs": [
    {
     "data": {
      "text/plain": [
       "{1, 2, 3, 4}"
      ]
     },
     "execution_count": 85,
     "metadata": {},
     "output_type": "execute_result"
    }
   ],
   "source": [
    "a = {1,2,3,4,'hy'}\n",
    "b = {2,3,4,'Krupa',1}\n",
    "a.intersection(b) #Print same item in both set"
   ]
  },
  {
   "cell_type": "code",
   "execution_count": 86,
   "metadata": {},
   "outputs": [
    {
     "data": {
      "text/plain": [
       "{1, 4}"
      ]
     },
     "execution_count": 86,
     "metadata": {},
     "output_type": "execute_result"
    }
   ],
   "source": [
    "a = {1,2,3}\n",
    "b = {2,3,4}\n",
    "a.symmetric_difference(b) #Print item of a and b that is not same"
   ]
  },
  {
   "cell_type": "code",
   "execution_count": 87,
   "metadata": {},
   "outputs": [
    {
     "data": {
      "text/plain": [
       "{0, 1, 2, 4}"
      ]
     },
     "execution_count": 87,
     "metadata": {},
     "output_type": "execute_result"
    }
   ],
   "source": [
    "a = {1,2,4}\n",
    "a.add(0) #Add 0 in set\n",
    "a"
   ]
  },
  {
   "cell_type": "code",
   "execution_count": 88,
   "metadata": {},
   "outputs": [
    {
     "data": {
      "text/plain": [
       "{1, 2, 3, 4, 5, 6}"
      ]
     },
     "execution_count": 88,
     "metadata": {},
     "output_type": "execute_result"
    }
   ],
   "source": [
    "a = {1,2,3}\n",
    "a.update({4,5,6}) #Adding 4,5,6 in set\n",
    "a"
   ]
  },
  {
   "cell_type": "code",
   "execution_count": 89,
   "metadata": {},
   "outputs": [
    {
     "data": {
      "text/plain": [
       "{1, 2, 4}"
      ]
     },
     "execution_count": 89,
     "metadata": {},
     "output_type": "execute_result"
    }
   ],
   "source": [
    "a = {1,2,4,3}\n",
    "a.remove(3) #Removing 3 in set\n",
    "a"
   ]
  },
  {
   "cell_type": "code",
   "execution_count": 90,
   "metadata": {},
   "outputs": [
    {
     "data": {
      "text/plain": [
       "set()"
      ]
     },
     "execution_count": 90,
     "metadata": {},
     "output_type": "execute_result"
    }
   ],
   "source": [
    "a = {1,2,3}\n",
    "a.clear() #Clear set\n",
    "a"
   ]
  },
  {
   "cell_type": "code",
   "execution_count": 91,
   "metadata": {},
   "outputs": [
    {
     "name": "stdout",
     "output_type": "stream",
     "text": [
      "{1, 2, 3, 4, 5, 6, 7}\n",
      "{2, 3, 4, 5, 6, 7}\n"
     ]
    }
   ],
   "source": [
    "a = {1,2,3,4,5,6,7}\n",
    "print(a)\n",
    "a.pop() #Remove first item\n",
    "print(a)"
   ]
  },
  {
   "cell_type": "code",
   "execution_count": 92,
   "metadata": {},
   "outputs": [
    {
     "name": "stdout",
     "output_type": "stream",
     "text": [
      "[3, 5.7, 'Krupa', False, None]\n",
      "<class 'list'>\n",
      "{False, 3, 'Krupa', 5.7, None}\n",
      "<class 'set'>\n"
     ]
    }
   ],
   "source": [
    "li = [3,5.7,'Krupa',False,None]\n",
    "print(li)\n",
    "print(type(li))\n",
    "\n",
    "a = set(li)\n",
    "print(a)\n",
    "print(type(a))"
   ]
  },
  {
   "cell_type": "markdown",
   "metadata": {},
   "source": [
    "Dictionary"
   ]
  },
  {
   "cell_type": "code",
   "execution_count": 1,
   "metadata": {},
   "outputs": [
    {
     "name": "stdout",
     "output_type": "stream",
     "text": [
      "{'a': 123, 'b': 45, 46: 'Krupa'}\n"
     ]
    }
   ],
   "source": [
    "#Dictionary is used to store data value in KEY:VALUE pairs.\n",
    "#Key must be unique\n",
    "#Value duplication is allow\n",
    "#Python 3.7 is unordered but python 3.6 is ordered\n",
    "#Indexing Supporting\n",
    "\n",
    "a = {'a':123, 'b':45, 46:'Krupa'} #Define dict\n",
    "print(a) #Print dict"
   ]
  },
  {
   "cell_type": "code",
   "execution_count": 2,
   "metadata": {},
   "outputs": [
    {
     "name": "stdout",
     "output_type": "stream",
     "text": [
      "{1: [1, 2, 3], 'b': (1, 2, 3), 'c': {1, 2, 3}}\n"
     ]
    }
   ],
   "source": [
    "a = {1:[1,2,3], 'b':(1,2,3), 'c':{1,2,3}}\n",
    "print(a)"
   ]
  },
  {
   "cell_type": "code",
   "execution_count": 4,
   "metadata": {},
   "outputs": [
    {
     "name": "stdout",
     "output_type": "stream",
     "text": [
      "3\n"
     ]
    }
   ],
   "source": [
    "print(len(a)) #Print length of dict"
   ]
  },
  {
   "cell_type": "code",
   "execution_count": 5,
   "metadata": {},
   "outputs": [
    {
     "name": "stdout",
     "output_type": "stream",
     "text": [
      "{'hight': 170, 'weight': 45}\n"
     ]
    }
   ],
   "source": [
    "a = {'Krupa':{'hight':150, 'weight':48}, 'Gopi':{'hight':170, 'weight':45}}\n",
    "print(a['Gopi']) #Print value of given key"
   ]
  },
  {
   "cell_type": "code",
   "execution_count": 6,
   "metadata": {},
   "outputs": [
    {
     "name": "stdout",
     "output_type": "stream",
     "text": [
      "123\n",
      "12\n",
      "{'a': 123, 'b': 45, 46: 'Krupa'}\n"
     ]
    }
   ],
   "source": [
    "d = {'a':123, 'b':45, 46:12}\n",
    "print(d['a'])\n",
    "print(d[46])\n",
    "d[46] = 'Krupa' #Define new value of key 46\n",
    "print(d)"
   ]
  },
  {
   "cell_type": "code",
   "execution_count": 8,
   "metadata": {},
   "outputs": [
    {
     "name": "stdout",
     "output_type": "stream",
     "text": [
      "150\n",
      "{'Krupa': {'hight': 150, 'weight': 48}, 'Gopi': {'hight': 170, 'weight': 90}, 'Janvi': {'hight': 170, 'weight': 80}}\n"
     ]
    }
   ],
   "source": [
    "a = {'Krupa':{'hight':150, 'weight':48}, 'Gopi':{'hight':170, 'weight':45}}\n",
    "print(a['Krupa']['hight'])\n",
    "a['Gopi']['weight'] = 90\n",
    "a['Janvi'] = {'hight':170, 'weight':80}\n",
    "print(a)"
   ]
  },
  {
   "cell_type": "markdown",
   "metadata": {},
   "source": [
    "Dict Function"
   ]
  },
  {
   "cell_type": "code",
   "execution_count": 10,
   "metadata": {},
   "outputs": [
    {
     "data": {
      "text/plain": [
       "dict_keys(['a', 'b', 'Rup'])"
      ]
     },
     "execution_count": 10,
     "metadata": {},
     "output_type": "execute_result"
    }
   ],
   "source": [
    "a = {'a':123, 'b':45, 'Rup':100}\n",
    "a.keys() #Retriving key of dict"
   ]
  },
  {
   "cell_type": "code",
   "execution_count": 11,
   "metadata": {},
   "outputs": [
    {
     "data": {
      "text/plain": [
       "dict_items([('a', 123), ('b', 45), ('Rup', 100)])"
      ]
     },
     "execution_count": 11,
     "metadata": {},
     "output_type": "execute_result"
    }
   ],
   "source": [
    "a = {'a':123, 'b':45, 'Rup':100}\n",
    "a.items() #Retriving items of dict"
   ]
  },
  {
   "cell_type": "code",
   "execution_count": 12,
   "metadata": {},
   "outputs": [
    {
     "data": {
      "text/plain": [
       "dict_values([123, 45, 100])"
      ]
     },
     "execution_count": 12,
     "metadata": {},
     "output_type": "execute_result"
    }
   ],
   "source": [
    "a = {'a':123, 'b':45, 'Rup':100}\n",
    "a.values() #Retriving value of dict"
   ]
  },
  {
   "cell_type": "code",
   "execution_count": 13,
   "metadata": {},
   "outputs": [
    {
     "data": {
      "text/plain": [
       "{'a': 123, 'b': 45, 'Rup': 100, 'c': 67}"
      ]
     },
     "execution_count": 13,
     "metadata": {},
     "output_type": "execute_result"
    }
   ],
   "source": [
    "a = {'a':123, 'b':45, 'Rup':100}\n",
    "a.update({'c':67}) #Adding new key value pair\n",
    "a"
   ]
  },
  {
   "cell_type": "code",
   "execution_count": 14,
   "metadata": {},
   "outputs": [
    {
     "data": {
      "text/plain": [
       "{'x': 123, 'y': 45}"
      ]
     },
     "execution_count": 14,
     "metadata": {},
     "output_type": "execute_result"
    }
   ],
   "source": [
    "a = {'x':123, 'y':45, 46:'z'}\n",
    "a.popitem() #Removing last key value pair\n",
    "a"
   ]
  },
  {
   "cell_type": "code",
   "execution_count": 16,
   "metadata": {},
   "outputs": [
    {
     "data": {
      "text/plain": [
       "{}"
      ]
     },
     "execution_count": 16,
     "metadata": {},
     "output_type": "execute_result"
    }
   ],
   "source": [
    "a = {'x':123, 'y':45, 46:'z'}\n",
    "a.clear() #Clear dict\n",
    "a"
   ]
  },
  {
   "cell_type": "code",
   "execution_count": 17,
   "metadata": {},
   "outputs": [
    {
     "name": "stdout",
     "output_type": "stream",
     "text": [
      "{'Krupa': {24, 25, 23}, 'Janvi': {24, 25, 23}, 'Gopi': {24, 25, 23}}\n"
     ]
    }
   ],
   "source": [
    "name = {'Krupa', 'Gopi', 'Janvi'}\n",
    "age = {23,24,25}\n",
    "d = dict.fromkeys(name, age) #Make dict of name and age set\n",
    "print(d)"
   ]
  },
  {
   "cell_type": "code",
   "execution_count": 19,
   "metadata": {},
   "outputs": [
    {
     "name": "stdout",
     "output_type": "stream",
     "text": [
      "<class 'dict'>\n",
      "{'name': 'Krupa', 'age': 20, 'subject': 'python'}\n",
      "dict_keys(['name', 'age', 'subject'])\n",
      "dict_values(['Krupa', 20, 'python'])\n",
      "dict_items([('name', 'Krupa'), ('age', 20), ('subject', 'python')])\n",
      "{'name': 'Krupa', 'age': 20, 'subject': 'python', 'std': 12, 'std1': 123}\n"
     ]
    }
   ],
   "source": [
    "d1 = {'name':'Krupa', 'age':20, 'subject':'python'}\n",
    "print(type(d1))\n",
    "print(d1)\n",
    "print(d1.keys())\n",
    "print(d1.values())\n",
    "print(d1.items())\n",
    "d1.update({'std':12})\n",
    "d1.update({'std1':123})\n",
    "print(d1)"
   ]
  },
  {
   "cell_type": "markdown",
   "metadata": {},
   "source": [
    "Python Conditions"
   ]
  },
  {
   "cell_type": "code",
   "execution_count": 20,
   "metadata": {},
   "outputs": [],
   "source": [
    "#Equals: a == b\n",
    "#Not Equals: a != b\n",
    "#Less than: a < b\n",
    "#Less than or equal to a <= b\n",
    "#Greater than: a > b\n",
    "#Greater than or equal to a >= b"
   ]
  },
  {
   "cell_type": "markdown",
   "metadata": {},
   "source": [
    "If Statements"
   ]
  },
  {
   "cell_type": "code",
   "execution_count": 21,
   "metadata": {},
   "outputs": [],
   "source": [
    "#An if statement is written by using \"if\" keyword.\n",
    "#Indentation - Python relies on indentation (white space at the beginning of a line) to define scope in the code.\n",
    "#Other programming language often use {} for this purpose."
   ]
  },
  {
   "cell_type": "code",
   "execution_count": 25,
   "metadata": {},
   "outputs": [],
   "source": [
    "a = 50\n",
    "b = 46\n",
    "if a < b:\n",
    "    print('a is max')"
   ]
  },
  {
   "cell_type": "code",
   "execution_count": 26,
   "metadata": {},
   "outputs": [
    {
     "name": "stdout",
     "output_type": "stream",
     "text": [
      "a is max\n",
      "b is min\n"
     ]
    }
   ],
   "source": [
    "a = 50\n",
    "b = 46\n",
    "if a > b:\n",
    "    print('a is max')\n",
    "    print('b is min')"
   ]
  },
  {
   "cell_type": "markdown",
   "metadata": {},
   "source": [
    "If Else"
   ]
  },
  {
   "cell_type": "code",
   "execution_count": 27,
   "metadata": {},
   "outputs": [
    {
     "name": "stdout",
     "output_type": "stream",
     "text": [
      "b is max\n"
     ]
    }
   ],
   "source": [
    "a = 50\n",
    "b = 46\n",
    "if a < b:\n",
    "    print('a is max')\n",
    "else:\n",
    "    print('b is max')"
   ]
  },
  {
   "cell_type": "markdown",
   "metadata": {},
   "source": [
    "Short Hand If"
   ]
  },
  {
   "cell_type": "code",
   "execution_count": 29,
   "metadata": {},
   "outputs": [
    {
     "name": "stdout",
     "output_type": "stream",
     "text": [
      "a is max\n"
     ]
    }
   ],
   "source": [
    "a = 50\n",
    "b = 46\n",
    "if a > b: print('a is max')"
   ]
  },
  {
   "cell_type": "markdown",
   "metadata": {},
   "source": [
    "Short Hand If Else"
   ]
  },
  {
   "cell_type": "code",
   "execution_count": 34,
   "metadata": {},
   "outputs": [
    {
     "name": "stdout",
     "output_type": "stream",
     "text": [
      "a is max\n"
     ]
    }
   ],
   "source": [
    "a = 50\n",
    "b = 46\n",
    "print('a is max') if a > b else print('b is max')"
   ]
  },
  {
   "cell_type": "markdown",
   "metadata": {},
   "source": [
    "If Elif Else"
   ]
  },
  {
   "cell_type": "code",
   "execution_count": 35,
   "metadata": {},
   "outputs": [
    {
     "name": "stdout",
     "output_type": "stream",
     "text": [
      "Equal Numbers\n"
     ]
    }
   ],
   "source": [
    "a = 52\n",
    "b = 52\n",
    "if a > b:\n",
    "    print('a is max')\n",
    "elif a < b:\n",
    "    print('b is max')\n",
    "elif a == b:\n",
    "    print('Equal Numbers')\n",
    "else:\n",
    "    print('Invalid Numbers')"
   ]
  },
  {
   "cell_type": "code",
   "execution_count": null,
   "metadata": {},
   "outputs": [
    {
     "name": "stdout",
     "output_type": "stream",
     "text": [
      "Invalid Input\n"
     ]
    }
   ],
   "source": [
    "a = input('1 for Pizza\\n2 for Burger\\n3 for Panipuri\\n4 for Pasta\\nEnter Number: ')\n",
    "\n",
    "if a == '1':\n",
    "    print('Pizza')\n",
    "elif a == '2':\n",
    "    print('Burger')\n",
    "elif a == '3':\n",
    "    print('Panipuri')\n",
    "elif a == '4':\n",
    "    print('Pasta')\n",
    "else:\n",
    "    print('Invalid Input')"
   ]
  },
  {
   "cell_type": "markdown",
   "metadata": {},
   "source": [
    "And (Logical Operator)"
   ]
  },
  {
   "cell_type": "code",
   "execution_count": 47,
   "metadata": {},
   "outputs": [
    {
     "name": "stdout",
     "output_type": "stream",
     "text": [
      "c is max\n"
     ]
    }
   ],
   "source": [
    "a = 200\n",
    "b = 300\n",
    "c = 500\n",
    "if a < b and b < c: #Both condition must be true for print 'c is max'\n",
    "    print('c is max')"
   ]
  },
  {
   "cell_type": "markdown",
   "metadata": {},
   "source": [
    "Or (Logical Operator)"
   ]
  },
  {
   "cell_type": "code",
   "execution_count": 49,
   "metadata": {},
   "outputs": [],
   "source": [
    "a = 200\n",
    "b = 200\n",
    "c = 500\n",
    "if a == b or b == c: #At least one condition must be true for print 'a,b,c is equal'\n",
    "    print('a,b,c is equal')"
   ]
  },
  {
   "cell_type": "markdown",
   "metadata": {},
   "source": [
    "Nested If"
   ]
  },
  {
   "cell_type": "code",
   "execution_count": 53,
   "metadata": {},
   "outputs": [
    {
     "name": "stdout",
     "output_type": "stream",
     "text": [
      "a is between 10 and 20\n"
     ]
    }
   ],
   "source": [
    "#If statement inside if stateent this is called if statement.\n",
    "\n",
    "a = int(input('Enter Number:'))\n",
    "if a > 10:\n",
    "    if a < 20:\n",
    "        print('a is between 10 and 20')\n",
    "    else:\n",
    "        print('a is above 20')\n",
    "else:\n",
    "    print('a is below 10')"
   ]
  },
  {
   "cell_type": "markdown",
   "metadata": {},
   "source": [
    "Exaples"
   ]
  },
  {
   "cell_type": "code",
   "execution_count": 56,
   "metadata": {},
   "outputs": [
    {
     "name": "stdout",
     "output_type": "stream",
     "text": [
      "Nither odd or even\n"
     ]
    }
   ],
   "source": [
    "#Check Odd or Even\n",
    "\n",
    "a = int(input('Enter any integer Number:'))\n",
    "if a == 0:\n",
    "    print('Nither odd or even')\n",
    "elif a % 2 == 0:\n",
    "    print('a is even')\n",
    "else:\n",
    "    print('a is odd')"
   ]
  },
  {
   "cell_type": "code",
   "execution_count": 58,
   "metadata": {},
   "outputs": [
    {
     "name": "stdout",
     "output_type": "stream",
     "text": [
      "2004 is leap year\n"
     ]
    }
   ],
   "source": [
    "#Check year is leap year or not\n",
    "\n",
    "a = int(input('Enter the Year:'))\n",
    "if a % 4 == 0:\n",
    "    print(a,'is leap year')\n",
    "else:\n",
    "    print(a,'is not leap year')"
   ]
  },
  {
   "cell_type": "code",
   "execution_count": 63,
   "metadata": {},
   "outputs": [
    {
     "name": "stdout",
     "output_type": "stream",
     "text": [
      "D Grade\n"
     ]
    }
   ],
   "source": [
    "#Give grade upon marks\n",
    "\n",
    "x = float(input('Enter your marks: '))\n",
    "if x>90 and x<=100:\n",
    "    print('A+ Grade')\n",
    "elif x>80 and x<=90:\n",
    "    print('A Grade')\n",
    "elif x>70 and x<=80:\n",
    "    print('B Grade')\n",
    "elif x>60 and x<=70:\n",
    "    print('C Grade')\n",
    "elif x>50 and x<=60:\n",
    "    print('D Grade')\n",
    "elif x>40 and x<=50:\n",
    "    print('E Grade')\n",
    "elif x>0 and x<=40:\n",
    "    print('Sorry, you are Failed...')\n",
    "else:\n",
    "    print('Enter valid marks')"
   ]
  },
  {
   "cell_type": "code",
   "execution_count": 66,
   "metadata": {},
   "outputs": [
    {
     "name": "stdout",
     "output_type": "stream",
     "text": [
      "Multiplication of -56.0 and -9.7 is:  543.1999999999999\n"
     ]
    }
   ],
   "source": [
    "#Design a Calculator\n",
    "\n",
    "a = float(input('Enter First Number: '))\n",
    "b = float(input('Enter Second Number: '))\n",
    "c = int(input('1 for Addition\\n2 for Subtraction\\n3 for Multiplication\\n4 for Division\\nChoose a Number: '))\n",
    "if c == 1:\n",
    "    print('Addition of',a,'and',b,'is: ',a+b)\n",
    "elif c == 2:\n",
    "    print('Subtraction of',a,'and',b,'is: ',a-b)\n",
    "elif c == 3:\n",
    "    print('Multiplication of',a,'and',b,'is: ',a*b)\n",
    "elif c == 4:\n",
    "    print('Division of',a,'and',b,'is: ',a/b)\n",
    "else:\n",
    "    print('Invalid Input')"
   ]
  },
  {
   "cell_type": "markdown",
   "metadata": {},
   "source": [
    "Randon Function"
   ]
  },
  {
   "cell_type": "code",
   "execution_count": 72,
   "metadata": {},
   "outputs": [
    {
     "name": "stdout",
     "output_type": "stream",
     "text": [
      "['Janvi']\n"
     ]
    }
   ],
   "source": [
    "import random\n",
    "a = ['Krupa','Gopi',12,3.14,True,'Janvi']\n",
    "b = random.choices(a) #Choose random item in a\n",
    "print(b)"
   ]
  },
  {
   "cell_type": "markdown",
   "metadata": {},
   "source": [
    "User Define Functions"
   ]
  },
  {
   "cell_type": "code",
   "execution_count": 1,
   "metadata": {},
   "outputs": [
    {
     "name": "stdout",
     "output_type": "stream",
     "text": [
      "Hellooo!!\n"
     ]
    }
   ],
   "source": [
    "#UDF is used to make on your function for any purpose.\n",
    "#UDF is defined by \"def\" keyword.\n",
    "#Syntax -   def fun_name(optional argument): --> Function Definition\n",
    "                #Code (Logic Part) --> Body of Function\n",
    "            #fun_name() --> Function Call\n",
    "\n",
    "def my_fun(): #Function Definition\n",
    "    print('Hellooo!!') #Body of Function\n",
    "my_fun() #Function Call"
   ]
  },
  {
   "cell_type": "code",
   "execution_count": 2,
   "metadata": {},
   "outputs": [
    {
     "name": "stdout",
     "output_type": "stream",
     "text": [
      "The biggest child is Krupa\n"
     ]
    }
   ],
   "source": [
    "def my_fun(*kids):\n",
    "    print('The biggest child is '+kids[1]) #1 is index number\n",
    "my_fun('Gopi','Krupa','Mukund')"
   ]
  },
  {
   "cell_type": "code",
   "execution_count": 7,
   "metadata": {},
   "outputs": [
    {
     "name": "stdout",
     "output_type": "stream",
     "text": [
      "The biggest child is Krupa\n"
     ]
    }
   ],
   "source": [
    "def my_fun(**kids):\n",
    "    print('The biggest child is '+kids['n2'])\n",
    "my_fun(n1='Gopi',n2='Krupa',n3='Mukund')"
   ]
  },
  {
   "cell_type": "code",
   "execution_count": 10,
   "metadata": {},
   "outputs": [
    {
     "name": "stdout",
     "output_type": "stream",
     "text": [
      "The youngst child is rty\n"
     ]
    }
   ],
   "source": [
    "def my_fun(c1,c2,c3):\n",
    "    print('The youngst child is '+c3)\n",
    "my_fun(c1='abs',c2='dfg',c3='rty')"
   ]
  },
  {
   "cell_type": "code",
   "execution_count": 13,
   "metadata": {},
   "outputs": [
    {
     "name": "stdout",
     "output_type": "stream",
     "text": [
      "6\n"
     ]
    }
   ],
   "source": [
    "def my_fun(x):\n",
    "    return print(2*x)\n",
    "my_fun(3)"
   ]
  },
  {
   "cell_type": "code",
   "execution_count": 20,
   "metadata": {},
   "outputs": [
    {
     "data": {
      "text/plain": [
       "16"
      ]
     },
     "execution_count": 20,
     "metadata": {},
     "output_type": "execute_result"
    }
   ],
   "source": [
    "def my_fun(k):\n",
    "    if k > 0:\n",
    "        return k*k\n",
    "    else:\n",
    "        return 0\n",
    "my_fun(4)"
   ]
  },
  {
   "cell_type": "code",
   "execution_count": 24,
   "metadata": {},
   "outputs": [],
   "source": [
    "def my_fun():\n",
    "    pass"
   ]
  },
  {
   "cell_type": "code",
   "execution_count": 30,
   "metadata": {},
   "outputs": [
    {
     "name": "stdout",
     "output_type": "stream",
     "text": [
      "5\n"
     ]
    }
   ],
   "source": [
    "#UDF with no arg, no return type\n",
    "\n",
    "n1 = int(input('Enter n1: '))\n",
    "n2 = int(input('Enter n2: '))\n",
    "\n",
    "def add():\n",
    "    res = n1+n2\n",
    "    print(res)\n",
    "add()"
   ]
  },
  {
   "cell_type": "code",
   "execution_count": 33,
   "metadata": {},
   "outputs": [
    {
     "name": "stdout",
     "output_type": "stream",
     "text": [
      "6\n"
     ]
    }
   ],
   "source": [
    "#UDF with arg, no return type\n",
    "\n",
    "n1 = int(input('Enter n1: '))\n",
    "n2 = int(input('Enter n2: '))\n",
    "\n",
    "def add(n1,n2):\n",
    "    res = n1+n2\n",
    "    print(res)\n",
    "add(n1,n2)"
   ]
  },
  {
   "cell_type": "code",
   "execution_count": 34,
   "metadata": {},
   "outputs": [
    {
     "data": {
      "text/plain": [
       "7"
      ]
     },
     "execution_count": 34,
     "metadata": {},
     "output_type": "execute_result"
    }
   ],
   "source": [
    "#UDF with no arg, with return type\n",
    "\n",
    "n1 = int(input('Enter n1: '))\n",
    "n2 = int(input('Enter n2: '))\n",
    "\n",
    "def add():\n",
    "    res = n1+n2\n",
    "    return res\n",
    "add()"
   ]
  },
  {
   "cell_type": "code",
   "execution_count": 35,
   "metadata": {},
   "outputs": [
    {
     "data": {
      "text/plain": [
       "9"
      ]
     },
     "execution_count": 35,
     "metadata": {},
     "output_type": "execute_result"
    }
   ],
   "source": [
    "#UDF with arg, with return type\n",
    "\n",
    "n1 = int(input('Enter n1: '))\n",
    "n2 = int(input('Enter n2: '))\n",
    "\n",
    "def add(n1,n2):\n",
    "    res = n1+n2\n",
    "    return res\n",
    "add(n1,n2)"
   ]
  },
  {
   "cell_type": "markdown",
   "metadata": {},
   "source": [
    "Loop Structure"
   ]
  },
  {
   "cell_type": "code",
   "execution_count": 5,
   "metadata": {},
   "outputs": [
    {
     "name": "stdout",
     "output_type": "stream",
     "text": [
      "B\n",
      "a\n",
      "n\n",
      "a\n",
      "n\n",
      "a\n"
     ]
    }
   ],
   "source": [
    "for x in 'Banana':\n",
    "    print(x)"
   ]
  },
  {
   "cell_type": "code",
   "execution_count": 1,
   "metadata": {},
   "outputs": [
    {
     "name": "stdout",
     "output_type": "stream",
     "text": [
      "Banana\n",
      "Apple\n",
      "Orange\n"
     ]
    }
   ],
   "source": [
    "fruits = ['Banana', 'Apple', 'Orange']\n",
    "for x in fruits:\n",
    "    print(x)"
   ]
  },
  {
   "cell_type": "code",
   "execution_count": 3,
   "metadata": {},
   "outputs": [
    {
     "name": "stdout",
     "output_type": "stream",
     "text": [
      "Banana\n",
      "Apple\n"
     ]
    }
   ],
   "source": [
    "for x in fruits:\n",
    "    print(x)\n",
    "    if x=='Apple':\n",
    "        break"
   ]
  },
  {
   "cell_type": "code",
   "execution_count": 4,
   "metadata": {},
   "outputs": [
    {
     "name": "stdout",
     "output_type": "stream",
     "text": [
      "Banana\n"
     ]
    }
   ],
   "source": [
    "for x in fruits:\n",
    "    if x=='Apple':\n",
    "        break\n",
    "    print(x)"
   ]
  },
  {
   "cell_type": "code",
   "execution_count": 6,
   "metadata": {},
   "outputs": [
    {
     "name": "stdout",
     "output_type": "stream",
     "text": [
      "Banana\n",
      "Apple\n",
      "Orange\n"
     ]
    }
   ],
   "source": [
    "for x in fruits:\n",
    "    print(x)\n",
    "    if x=='Apple':\n",
    "        continue"
   ]
  },
  {
   "cell_type": "code",
   "execution_count": 7,
   "metadata": {},
   "outputs": [
    {
     "name": "stdout",
     "output_type": "stream",
     "text": [
      "Banana\n",
      "Orange\n"
     ]
    }
   ],
   "source": [
    "for x in fruits:\n",
    "    if x=='Apple':\n",
    "        continue\n",
    "    print(x)"
   ]
  },
  {
   "cell_type": "code",
   "execution_count": 9,
   "metadata": {},
   "outputs": [
    {
     "name": "stdout",
     "output_type": "stream",
     "text": [
      "0\n",
      "1\n",
      "2\n",
      "3\n"
     ]
    }
   ],
   "source": [
    "for x in range(4):\n",
    "    print(x)"
   ]
  },
  {
   "cell_type": "code",
   "execution_count": 10,
   "metadata": {},
   "outputs": [
    {
     "name": "stdout",
     "output_type": "stream",
     "text": [
      "2\n",
      "3\n",
      "4\n",
      "5\n",
      "6\n",
      "7\n"
     ]
    }
   ],
   "source": [
    "for x in range(2,8):\n",
    "    print(x)"
   ]
  },
  {
   "cell_type": "code",
   "execution_count": 12,
   "metadata": {},
   "outputs": [
    {
     "name": "stdout",
     "output_type": "stream",
     "text": [
      "4\n",
      "14\n",
      "24\n",
      "34\n",
      "44\n",
      "Finished\n"
     ]
    }
   ],
   "source": [
    "for x in range(4,50,10):\n",
    "    print(x)\n",
    "else:\n",
    "    print('Finished')"
   ]
  },
  {
   "cell_type": "code",
   "execution_count": 13,
   "metadata": {},
   "outputs": [
    {
     "name": "stdout",
     "output_type": "stream",
     "text": [
      "we eff\n",
      "we ett\n",
      "we err\n",
      "we egg\n",
      "ef eff\n",
      "ef ett\n",
      "ef err\n",
      "ef egg\n",
      "fe eff\n",
      "fe ett\n",
      "fe err\n",
      "fe egg\n",
      "rf eff\n",
      "rf ett\n",
      "rf err\n",
      "rf egg\n"
     ]
    }
   ],
   "source": [
    "a = ['we','ef','fe','rf']\n",
    "b = ['eff','ett','err','egg']\n",
    "for x in a:\n",
    "    for y in b:\n",
    "        print(x,y)"
   ]
  },
  {
   "cell_type": "code",
   "execution_count": 14,
   "metadata": {},
   "outputs": [
    {
     "data": {
      "text/plain": [
       "['Krupa', 'Gopi', 'Mukund', 'Janvi']"
      ]
     },
     "execution_count": 14,
     "metadata": {},
     "output_type": "execute_result"
    }
   ],
   "source": [
    "names = ['Krupa','Gopi','Mukund','Janvi']\n",
    "names"
   ]
  },
  {
   "cell_type": "code",
   "execution_count": 15,
   "metadata": {},
   "outputs": [
    {
     "data": {
      "text/plain": [
       "'Mukund'"
      ]
     },
     "execution_count": 15,
     "metadata": {},
     "output_type": "execute_result"
    }
   ],
   "source": [
    "names[2]"
   ]
  },
  {
   "cell_type": "code",
   "execution_count": 16,
   "metadata": {},
   "outputs": [
    {
     "data": {
      "text/plain": [
       "4"
      ]
     },
     "execution_count": 16,
     "metadata": {},
     "output_type": "execute_result"
    }
   ],
   "source": [
    "len(names)"
   ]
  },
  {
   "cell_type": "code",
   "execution_count": 23,
   "metadata": {},
   "outputs": [
    {
     "data": {
      "text/plain": [
       "['Krupa', 'Gopi', 'Mukund', 'Janvi', 'Jeel']"
      ]
     },
     "execution_count": 23,
     "metadata": {},
     "output_type": "execute_result"
    }
   ],
   "source": [
    "names.append('Jeel')\n",
    "names"
   ]
  },
  {
   "cell_type": "code",
   "execution_count": 24,
   "metadata": {},
   "outputs": [
    {
     "data": {
      "text/plain": [
       "['Krupa', 'Gopi', 'Mukund', 'Janvi']"
      ]
     },
     "execution_count": 24,
     "metadata": {},
     "output_type": "execute_result"
    }
   ],
   "source": [
    "names.pop()\n",
    "names"
   ]
  },
  {
   "cell_type": "code",
   "execution_count": 25,
   "metadata": {},
   "outputs": [
    {
     "data": {
      "text/plain": [
       "['Gopi', 'Mukund', 'Janvi']"
      ]
     },
     "execution_count": 25,
     "metadata": {},
     "output_type": "execute_result"
    }
   ],
   "source": [
    "names.pop(0)\n",
    "names"
   ]
  },
  {
   "cell_type": "code",
   "execution_count": 26,
   "metadata": {},
   "outputs": [],
   "source": [
    "names.remove('Mukund')"
   ]
  },
  {
   "cell_type": "code",
   "execution_count": 27,
   "metadata": {},
   "outputs": [
    {
     "data": {
      "text/plain": [
       "['Gopi', 'Janvi']"
      ]
     },
     "execution_count": 27,
     "metadata": {},
     "output_type": "execute_result"
    }
   ],
   "source": [
    "names"
   ]
  },
  {
   "cell_type": "code",
   "execution_count": 28,
   "metadata": {},
   "outputs": [
    {
     "name": "stdout",
     "output_type": "stream",
     "text": [
      "4\n"
     ]
    }
   ],
   "source": [
    "x = lambda a:a+2\n",
    "print(x(2))"
   ]
  },
  {
   "cell_type": "code",
   "execution_count": 29,
   "metadata": {},
   "outputs": [
    {
     "name": "stdout",
     "output_type": "stream",
     "text": [
      "4.0\n"
     ]
    }
   ],
   "source": [
    "x = lambda a,b:a/b\n",
    "print(x(16,4))"
   ]
  },
  {
   "cell_type": "code",
   "execution_count": 30,
   "metadata": {},
   "outputs": [
    {
     "name": "stdout",
     "output_type": "stream",
     "text": [
      "14\n"
     ]
    }
   ],
   "source": [
    "x = lambda a,b,c:a+b+c\n",
    "print(x(3,5,6))"
   ]
  },
  {
   "cell_type": "code",
   "execution_count": 31,
   "metadata": {},
   "outputs": [
    {
     "name": "stdout",
     "output_type": "stream",
     "text": [
      "6\n"
     ]
    }
   ],
   "source": [
    "def my_fun(x):\n",
    "    return lambda a:a*x\n",
    "mydoubler = my_fun(3)\n",
    "print(mydoubler(2))"
   ]
  },
  {
   "cell_type": "code",
   "execution_count": 32,
   "metadata": {},
   "outputs": [
    {
     "name": "stdout",
     "output_type": "stream",
     "text": [
      "6\n",
      "12\n"
     ]
    }
   ],
   "source": [
    "def my_fun(x):\n",
    "    return lambda a:a*x\n",
    "mydoubler = my_fun(3)\n",
    "mytripler = my_fun(4)\n",
    "print(mydoubler(2))\n",
    "print(mytripler(3))"
   ]
  },
  {
   "cell_type": "code",
   "execution_count": 37,
   "metadata": {},
   "outputs": [
    {
     "name": "stdout",
     "output_type": "stream",
     "text": [
      "0\n",
      "2\n",
      "4\n",
      "6\n",
      "8\n"
     ]
    }
   ],
   "source": [
    "x = 0\n",
    "while x<10:\n",
    "    print(x)\n",
    "    x+=2"
   ]
  },
  {
   "cell_type": "code",
   "execution_count": null,
   "metadata": {},
   "outputs": [],
   "source": []
  }
 ],
 "metadata": {
  "kernelspec": {
   "display_name": "Python 3",
   "language": "python",
   "name": "python3"
  },
  "language_info": {
   "codemirror_mode": {
    "name": "ipython",
    "version": 3
   },
   "file_extension": ".py",
   "mimetype": "text/x-python",
   "name": "python",
   "nbconvert_exporter": "python",
   "pygments_lexer": "ipython3",
   "version": "3.9.6"
  },
  "orig_nbformat": 4
 },
 "nbformat": 4,
 "nbformat_minor": 2
}
