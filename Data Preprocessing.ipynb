{
 "cells": [
  {
   "cell_type": "code",
   "execution_count": 2,
   "metadata": {},
   "outputs": [],
   "source": [
    "import pandas as pd "
   ]
  },
  {
   "cell_type": "code",
   "execution_count": 3,
   "metadata": {},
   "outputs": [
    {
     "data": {
      "text/html": [
       "<div>\n",
       "<style scoped>\n",
       "    .dataframe tbody tr th:only-of-type {\n",
       "        vertical-align: middle;\n",
       "    }\n",
       "\n",
       "    .dataframe tbody tr th {\n",
       "        vertical-align: top;\n",
       "    }\n",
       "\n",
       "    .dataframe thead th {\n",
       "        text-align: right;\n",
       "    }\n",
       "</style>\n",
       "<table border=\"1\" class=\"dataframe\">\n",
       "  <thead>\n",
       "    <tr style=\"text-align: right;\">\n",
       "      <th></th>\n",
       "      <th>hours</th>\n",
       "      <th>age</th>\n",
       "      <th>internet</th>\n",
       "      <th>marks</th>\n",
       "    </tr>\n",
       "  </thead>\n",
       "  <tbody>\n",
       "    <tr>\n",
       "      <th>0</th>\n",
       "      <td>6.84</td>\n",
       "      <td>15</td>\n",
       "      <td>0</td>\n",
       "      <td>78.64</td>\n",
       "    </tr>\n",
       "    <tr>\n",
       "      <th>1</th>\n",
       "      <td>6.56</td>\n",
       "      <td>20</td>\n",
       "      <td>1</td>\n",
       "      <td>88.80</td>\n",
       "    </tr>\n",
       "    <tr>\n",
       "      <th>2</th>\n",
       "      <td>NaN</td>\n",
       "      <td>21</td>\n",
       "      <td>1</td>\n",
       "      <td>88.90</td>\n",
       "    </tr>\n",
       "    <tr>\n",
       "      <th>3</th>\n",
       "      <td>8.67</td>\n",
       "      <td>22</td>\n",
       "      <td>1</td>\n",
       "      <td>98.99</td>\n",
       "    </tr>\n",
       "    <tr>\n",
       "      <th>4</th>\n",
       "      <td>7.55</td>\n",
       "      <td>17</td>\n",
       "      <td>1</td>\n",
       "      <td>92.34</td>\n",
       "    </tr>\n",
       "    <tr>\n",
       "      <th>...</th>\n",
       "      <td>...</td>\n",
       "      <td>...</td>\n",
       "      <td>...</td>\n",
       "      <td>...</td>\n",
       "    </tr>\n",
       "    <tr>\n",
       "      <th>295</th>\n",
       "      <td>2.99</td>\n",
       "      <td>25</td>\n",
       "      <td>0</td>\n",
       "      <td>43.45</td>\n",
       "    </tr>\n",
       "    <tr>\n",
       "      <th>296</th>\n",
       "      <td>6.55</td>\n",
       "      <td>15</td>\n",
       "      <td>1</td>\n",
       "      <td>77.74</td>\n",
       "    </tr>\n",
       "    <tr>\n",
       "      <th>297</th>\n",
       "      <td>0.00</td>\n",
       "      <td>20</td>\n",
       "      <td>1</td>\n",
       "      <td>75.76</td>\n",
       "    </tr>\n",
       "    <tr>\n",
       "      <th>298</th>\n",
       "      <td>9.90</td>\n",
       "      <td>22</td>\n",
       "      <td>0</td>\n",
       "      <td>99.99</td>\n",
       "    </tr>\n",
       "    <tr>\n",
       "      <th>299</th>\n",
       "      <td>3.40</td>\n",
       "      <td>21</td>\n",
       "      <td>0</td>\n",
       "      <td>99.99</td>\n",
       "    </tr>\n",
       "  </tbody>\n",
       "</table>\n",
       "<p>300 rows × 4 columns</p>\n",
       "</div>"
      ],
      "text/plain": [
       "     hours  age  internet  marks\n",
       "0     6.84   15         0  78.64\n",
       "1     6.56   20         1  88.80\n",
       "2      NaN   21         1  88.90\n",
       "3     8.67   22         1  98.99\n",
       "4     7.55   17         1  92.34\n",
       "..     ...  ...       ...    ...\n",
       "295   2.99   25         0  43.45\n",
       "296   6.55   15         1  77.74\n",
       "297   0.00   20         1  75.76\n",
       "298   9.90   22         0  99.99\n",
       "299   3.40   21         0  99.99\n",
       "\n",
       "[300 rows x 4 columns]"
      ]
     },
     "execution_count": 3,
     "metadata": {},
     "output_type": "execute_result"
    }
   ],
   "source": [
    "df = pd.read_csv(r'D:\\My Drive\\std_marks_data.csv')\n",
    "df "
   ]
  },
  {
   "cell_type": "code",
   "execution_count": 4,
   "metadata": {},
   "outputs": [
    {
     "data": {
      "text/plain": [
       "hours       12\n",
       "age          0\n",
       "internet     0\n",
       "marks        0\n",
       "dtype: int64"
      ]
     },
     "execution_count": 4,
     "metadata": {},
     "output_type": "execute_result"
    }
   ],
   "source": [
    "df.isnull().sum()"
   ]
  },
  {
   "cell_type": "code",
   "execution_count": 5,
   "metadata": {},
   "outputs": [],
   "source": [
    "df['hours'] = df['hours'].fillna(df['hours'].mean().round(2))"
   ]
  },
  {
   "cell_type": "code",
   "execution_count": 6,
   "metadata": {},
   "outputs": [
    {
     "data": {
      "text/plain": [
       "hours       0\n",
       "age         0\n",
       "internet    0\n",
       "marks       0\n",
       "dtype: int64"
      ]
     },
     "execution_count": 6,
     "metadata": {},
     "output_type": "execute_result"
    }
   ],
   "source": [
    "df.isnull().sum()"
   ]
  },
  {
   "cell_type": "code",
   "execution_count": 7,
   "metadata": {},
   "outputs": [],
   "source": [
    "import sklearn "
   ]
  },
  {
   "cell_type": "code",
   "execution_count": 8,
   "metadata": {},
   "outputs": [
    {
     "data": {
      "text/html": [
       "<div>\n",
       "<style scoped>\n",
       "    .dataframe tbody tr th:only-of-type {\n",
       "        vertical-align: middle;\n",
       "    }\n",
       "\n",
       "    .dataframe tbody tr th {\n",
       "        vertical-align: top;\n",
       "    }\n",
       "\n",
       "    .dataframe thead th {\n",
       "        text-align: right;\n",
       "    }\n",
       "</style>\n",
       "<table border=\"1\" class=\"dataframe\">\n",
       "  <thead>\n",
       "    <tr style=\"text-align: right;\">\n",
       "      <th></th>\n",
       "      <th>hours</th>\n",
       "      <th>age</th>\n",
       "      <th>internet</th>\n",
       "    </tr>\n",
       "  </thead>\n",
       "  <tbody>\n",
       "    <tr>\n",
       "      <th>0</th>\n",
       "      <td>6.84</td>\n",
       "      <td>15</td>\n",
       "      <td>0</td>\n",
       "    </tr>\n",
       "    <tr>\n",
       "      <th>1</th>\n",
       "      <td>6.56</td>\n",
       "      <td>20</td>\n",
       "      <td>1</td>\n",
       "    </tr>\n",
       "    <tr>\n",
       "      <th>2</th>\n",
       "      <td>5.49</td>\n",
       "      <td>21</td>\n",
       "      <td>1</td>\n",
       "    </tr>\n",
       "    <tr>\n",
       "      <th>3</th>\n",
       "      <td>8.67</td>\n",
       "      <td>22</td>\n",
       "      <td>1</td>\n",
       "    </tr>\n",
       "    <tr>\n",
       "      <th>4</th>\n",
       "      <td>7.55</td>\n",
       "      <td>17</td>\n",
       "      <td>1</td>\n",
       "    </tr>\n",
       "    <tr>\n",
       "      <th>...</th>\n",
       "      <td>...</td>\n",
       "      <td>...</td>\n",
       "      <td>...</td>\n",
       "    </tr>\n",
       "    <tr>\n",
       "      <th>295</th>\n",
       "      <td>2.99</td>\n",
       "      <td>25</td>\n",
       "      <td>0</td>\n",
       "    </tr>\n",
       "    <tr>\n",
       "      <th>296</th>\n",
       "      <td>6.55</td>\n",
       "      <td>15</td>\n",
       "      <td>1</td>\n",
       "    </tr>\n",
       "    <tr>\n",
       "      <th>297</th>\n",
       "      <td>0.00</td>\n",
       "      <td>20</td>\n",
       "      <td>1</td>\n",
       "    </tr>\n",
       "    <tr>\n",
       "      <th>298</th>\n",
       "      <td>9.90</td>\n",
       "      <td>22</td>\n",
       "      <td>0</td>\n",
       "    </tr>\n",
       "    <tr>\n",
       "      <th>299</th>\n",
       "      <td>3.40</td>\n",
       "      <td>21</td>\n",
       "      <td>0</td>\n",
       "    </tr>\n",
       "  </tbody>\n",
       "</table>\n",
       "<p>300 rows × 3 columns</p>\n",
       "</div>"
      ],
      "text/plain": [
       "     hours  age  internet\n",
       "0     6.84   15         0\n",
       "1     6.56   20         1\n",
       "2     5.49   21         1\n",
       "3     8.67   22         1\n",
       "4     7.55   17         1\n",
       "..     ...  ...       ...\n",
       "295   2.99   25         0\n",
       "296   6.55   15         1\n",
       "297   0.00   20         1\n",
       "298   9.90   22         0\n",
       "299   3.40   21         0\n",
       "\n",
       "[300 rows x 3 columns]"
      ]
     },
     "execution_count": 8,
     "metadata": {},
     "output_type": "execute_result"
    }
   ],
   "source": [
    "x = df[['hours','age','internet']]\n",
    "x"
   ]
  },
  {
   "cell_type": "code",
   "execution_count": 9,
   "metadata": {},
   "outputs": [
    {
     "data": {
      "text/html": [
       "<div>\n",
       "<style scoped>\n",
       "    .dataframe tbody tr th:only-of-type {\n",
       "        vertical-align: middle;\n",
       "    }\n",
       "\n",
       "    .dataframe tbody tr th {\n",
       "        vertical-align: top;\n",
       "    }\n",
       "\n",
       "    .dataframe thead th {\n",
       "        text-align: right;\n",
       "    }\n",
       "</style>\n",
       "<table border=\"1\" class=\"dataframe\">\n",
       "  <thead>\n",
       "    <tr style=\"text-align: right;\">\n",
       "      <th></th>\n",
       "      <th>marks</th>\n",
       "    </tr>\n",
       "  </thead>\n",
       "  <tbody>\n",
       "    <tr>\n",
       "      <th>0</th>\n",
       "      <td>78.64</td>\n",
       "    </tr>\n",
       "    <tr>\n",
       "      <th>1</th>\n",
       "      <td>88.80</td>\n",
       "    </tr>\n",
       "    <tr>\n",
       "      <th>2</th>\n",
       "      <td>88.90</td>\n",
       "    </tr>\n",
       "    <tr>\n",
       "      <th>3</th>\n",
       "      <td>98.99</td>\n",
       "    </tr>\n",
       "    <tr>\n",
       "      <th>4</th>\n",
       "      <td>92.34</td>\n",
       "    </tr>\n",
       "    <tr>\n",
       "      <th>...</th>\n",
       "      <td>...</td>\n",
       "    </tr>\n",
       "    <tr>\n",
       "      <th>295</th>\n",
       "      <td>43.45</td>\n",
       "    </tr>\n",
       "    <tr>\n",
       "      <th>296</th>\n",
       "      <td>77.74</td>\n",
       "    </tr>\n",
       "    <tr>\n",
       "      <th>297</th>\n",
       "      <td>75.76</td>\n",
       "    </tr>\n",
       "    <tr>\n",
       "      <th>298</th>\n",
       "      <td>99.99</td>\n",
       "    </tr>\n",
       "    <tr>\n",
       "      <th>299</th>\n",
       "      <td>99.99</td>\n",
       "    </tr>\n",
       "  </tbody>\n",
       "</table>\n",
       "<p>300 rows × 1 columns</p>\n",
       "</div>"
      ],
      "text/plain": [
       "     marks\n",
       "0    78.64\n",
       "1    88.80\n",
       "2    88.90\n",
       "3    98.99\n",
       "4    92.34\n",
       "..     ...\n",
       "295  43.45\n",
       "296  77.74\n",
       "297  75.76\n",
       "298  99.99\n",
       "299  99.99\n",
       "\n",
       "[300 rows x 1 columns]"
      ]
     },
     "execution_count": 9,
     "metadata": {},
     "output_type": "execute_result"
    }
   ],
   "source": [
    "y = df[['marks']]\n",
    "y "
   ]
  },
  {
   "cell_type": "code",
   "execution_count": 10,
   "metadata": {},
   "outputs": [],
   "source": [
    "from sklearn.model_selection import train_test_split\n",
    "x_train, x_test, y_train, y_test = train_test_split(x,y,test_size=0.3,random_state=0) "
   ]
  },
  {
   "cell_type": "code",
   "execution_count": 11,
   "metadata": {},
   "outputs": [
    {
     "data": {
      "text/html": [
       "<div>\n",
       "<style scoped>\n",
       "    .dataframe tbody tr th:only-of-type {\n",
       "        vertical-align: middle;\n",
       "    }\n",
       "\n",
       "    .dataframe tbody tr th {\n",
       "        vertical-align: top;\n",
       "    }\n",
       "\n",
       "    .dataframe thead th {\n",
       "        text-align: right;\n",
       "    }\n",
       "</style>\n",
       "<table border=\"1\" class=\"dataframe\">\n",
       "  <thead>\n",
       "    <tr style=\"text-align: right;\">\n",
       "      <th></th>\n",
       "      <th>hours</th>\n",
       "      <th>age</th>\n",
       "      <th>internet</th>\n",
       "    </tr>\n",
       "  </thead>\n",
       "  <tbody>\n",
       "    <tr>\n",
       "      <th>282</th>\n",
       "      <td>7.44</td>\n",
       "      <td>24</td>\n",
       "      <td>1</td>\n",
       "    </tr>\n",
       "    <tr>\n",
       "      <th>44</th>\n",
       "      <td>1.70</td>\n",
       "      <td>16</td>\n",
       "      <td>0</td>\n",
       "    </tr>\n",
       "    <tr>\n",
       "      <th>272</th>\n",
       "      <td>9.33</td>\n",
       "      <td>17</td>\n",
       "      <td>0</td>\n",
       "    </tr>\n",
       "    <tr>\n",
       "      <th>189</th>\n",
       "      <td>4.44</td>\n",
       "      <td>20</td>\n",
       "      <td>1</td>\n",
       "    </tr>\n",
       "    <tr>\n",
       "      <th>152</th>\n",
       "      <td>8.67</td>\n",
       "      <td>22</td>\n",
       "      <td>1</td>\n",
       "    </tr>\n",
       "    <tr>\n",
       "      <th>...</th>\n",
       "      <td>...</td>\n",
       "      <td>...</td>\n",
       "      <td>...</td>\n",
       "    </tr>\n",
       "    <tr>\n",
       "      <th>251</th>\n",
       "      <td>6.56</td>\n",
       "      <td>16</td>\n",
       "      <td>1</td>\n",
       "    </tr>\n",
       "    <tr>\n",
       "      <th>192</th>\n",
       "      <td>6.20</td>\n",
       "      <td>17</td>\n",
       "      <td>1</td>\n",
       "    </tr>\n",
       "    <tr>\n",
       "      <th>117</th>\n",
       "      <td>0.50</td>\n",
       "      <td>24</td>\n",
       "      <td>0</td>\n",
       "    </tr>\n",
       "    <tr>\n",
       "      <th>47</th>\n",
       "      <td>5.67</td>\n",
       "      <td>21</td>\n",
       "      <td>1</td>\n",
       "    </tr>\n",
       "    <tr>\n",
       "      <th>172</th>\n",
       "      <td>8.76</td>\n",
       "      <td>18</td>\n",
       "      <td>0</td>\n",
       "    </tr>\n",
       "  </tbody>\n",
       "</table>\n",
       "<p>210 rows × 3 columns</p>\n",
       "</div>"
      ],
      "text/plain": [
       "     hours  age  internet\n",
       "282   7.44   24         1\n",
       "44    1.70   16         0\n",
       "272   9.33   17         0\n",
       "189   4.44   20         1\n",
       "152   8.67   22         1\n",
       "..     ...  ...       ...\n",
       "251   6.56   16         1\n",
       "192   6.20   17         1\n",
       "117   0.50   24         0\n",
       "47    5.67   21         1\n",
       "172   8.76   18         0\n",
       "\n",
       "[210 rows x 3 columns]"
      ]
     },
     "execution_count": 11,
     "metadata": {},
     "output_type": "execute_result"
    }
   ],
   "source": [
    "x_train"
   ]
  },
  {
   "cell_type": "code",
   "execution_count": 12,
   "metadata": {},
   "outputs": [
    {
     "data": {
      "text/html": [
       "<div>\n",
       "<style scoped>\n",
       "    .dataframe tbody tr th:only-of-type {\n",
       "        vertical-align: middle;\n",
       "    }\n",
       "\n",
       "    .dataframe tbody tr th {\n",
       "        vertical-align: top;\n",
       "    }\n",
       "\n",
       "    .dataframe thead th {\n",
       "        text-align: right;\n",
       "    }\n",
       "</style>\n",
       "<table border=\"1\" class=\"dataframe\">\n",
       "  <thead>\n",
       "    <tr style=\"text-align: right;\">\n",
       "      <th></th>\n",
       "      <th>hours</th>\n",
       "      <th>age</th>\n",
       "      <th>internet</th>\n",
       "    </tr>\n",
       "  </thead>\n",
       "  <tbody>\n",
       "    <tr>\n",
       "      <th>208</th>\n",
       "      <td>8.76</td>\n",
       "      <td>24</td>\n",
       "      <td>1</td>\n",
       "    </tr>\n",
       "    <tr>\n",
       "      <th>188</th>\n",
       "      <td>9.33</td>\n",
       "      <td>15</td>\n",
       "      <td>0</td>\n",
       "    </tr>\n",
       "    <tr>\n",
       "      <th>12</th>\n",
       "      <td>4.00</td>\n",
       "      <td>16</td>\n",
       "      <td>1</td>\n",
       "    </tr>\n",
       "    <tr>\n",
       "      <th>221</th>\n",
       "      <td>4.80</td>\n",
       "      <td>16</td>\n",
       "      <td>0</td>\n",
       "    </tr>\n",
       "    <tr>\n",
       "      <th>239</th>\n",
       "      <td>1.23</td>\n",
       "      <td>24</td>\n",
       "      <td>1</td>\n",
       "    </tr>\n",
       "    <tr>\n",
       "      <th>...</th>\n",
       "      <td>...</td>\n",
       "      <td>...</td>\n",
       "      <td>...</td>\n",
       "    </tr>\n",
       "    <tr>\n",
       "      <th>76</th>\n",
       "      <td>4.44</td>\n",
       "      <td>16</td>\n",
       "      <td>1</td>\n",
       "    </tr>\n",
       "    <tr>\n",
       "      <th>212</th>\n",
       "      <td>3.85</td>\n",
       "      <td>18</td>\n",
       "      <td>1</td>\n",
       "    </tr>\n",
       "    <tr>\n",
       "      <th>225</th>\n",
       "      <td>4.44</td>\n",
       "      <td>15</td>\n",
       "      <td>1</td>\n",
       "    </tr>\n",
       "    <tr>\n",
       "      <th>255</th>\n",
       "      <td>8.80</td>\n",
       "      <td>15</td>\n",
       "      <td>1</td>\n",
       "    </tr>\n",
       "    <tr>\n",
       "      <th>237</th>\n",
       "      <td>8.76</td>\n",
       "      <td>16</td>\n",
       "      <td>1</td>\n",
       "    </tr>\n",
       "  </tbody>\n",
       "</table>\n",
       "<p>90 rows × 3 columns</p>\n",
       "</div>"
      ],
      "text/plain": [
       "     hours  age  internet\n",
       "208   8.76   24         1\n",
       "188   9.33   15         0\n",
       "12    4.00   16         1\n",
       "221   4.80   16         0\n",
       "239   1.23   24         1\n",
       "..     ...  ...       ...\n",
       "76    4.44   16         1\n",
       "212   3.85   18         1\n",
       "225   4.44   15         1\n",
       "255   8.80   15         1\n",
       "237   8.76   16         1\n",
       "\n",
       "[90 rows x 3 columns]"
      ]
     },
     "execution_count": 12,
     "metadata": {},
     "output_type": "execute_result"
    }
   ],
   "source": [
    "x_test"
   ]
  },
  {
   "cell_type": "code",
   "execution_count": 13,
   "metadata": {},
   "outputs": [
    {
     "data": {
      "text/html": [
       "<div>\n",
       "<style scoped>\n",
       "    .dataframe tbody tr th:only-of-type {\n",
       "        vertical-align: middle;\n",
       "    }\n",
       "\n",
       "    .dataframe tbody tr th {\n",
       "        vertical-align: top;\n",
       "    }\n",
       "\n",
       "    .dataframe thead th {\n",
       "        text-align: right;\n",
       "    }\n",
       "</style>\n",
       "<table border=\"1\" class=\"dataframe\">\n",
       "  <thead>\n",
       "    <tr style=\"text-align: right;\">\n",
       "      <th></th>\n",
       "      <th>marks</th>\n",
       "    </tr>\n",
       "  </thead>\n",
       "  <tbody>\n",
       "    <tr>\n",
       "      <th>282</th>\n",
       "      <td>43.45</td>\n",
       "    </tr>\n",
       "    <tr>\n",
       "      <th>44</th>\n",
       "      <td>88.80</td>\n",
       "    </tr>\n",
       "    <tr>\n",
       "      <th>272</th>\n",
       "      <td>53.34</td>\n",
       "    </tr>\n",
       "    <tr>\n",
       "      <th>189</th>\n",
       "      <td>55.90</td>\n",
       "    </tr>\n",
       "    <tr>\n",
       "      <th>152</th>\n",
       "      <td>98.99</td>\n",
       "    </tr>\n",
       "    <tr>\n",
       "      <th>...</th>\n",
       "      <td>...</td>\n",
       "    </tr>\n",
       "    <tr>\n",
       "      <th>251</th>\n",
       "      <td>98.99</td>\n",
       "    </tr>\n",
       "    <tr>\n",
       "      <th>192</th>\n",
       "      <td>78.64</td>\n",
       "    </tr>\n",
       "    <tr>\n",
       "      <th>117</th>\n",
       "      <td>50.30</td>\n",
       "    </tr>\n",
       "    <tr>\n",
       "      <th>47</th>\n",
       "      <td>92.34</td>\n",
       "    </tr>\n",
       "    <tr>\n",
       "      <th>172</th>\n",
       "      <td>92.34</td>\n",
       "    </tr>\n",
       "  </tbody>\n",
       "</table>\n",
       "<p>210 rows × 1 columns</p>\n",
       "</div>"
      ],
      "text/plain": [
       "     marks\n",
       "282  43.45\n",
       "44   88.80\n",
       "272  53.34\n",
       "189  55.90\n",
       "152  98.99\n",
       "..     ...\n",
       "251  98.99\n",
       "192  78.64\n",
       "117  50.30\n",
       "47   92.34\n",
       "172  92.34\n",
       "\n",
       "[210 rows x 1 columns]"
      ]
     },
     "execution_count": 13,
     "metadata": {},
     "output_type": "execute_result"
    }
   ],
   "source": [
    "y_train"
   ]
  },
  {
   "cell_type": "code",
   "execution_count": 14,
   "metadata": {},
   "outputs": [
    {
     "data": {
      "text/html": [
       "<div>\n",
       "<style scoped>\n",
       "    .dataframe tbody tr th:only-of-type {\n",
       "        vertical-align: middle;\n",
       "    }\n",
       "\n",
       "    .dataframe tbody tr th {\n",
       "        vertical-align: top;\n",
       "    }\n",
       "\n",
       "    .dataframe thead th {\n",
       "        text-align: right;\n",
       "    }\n",
       "</style>\n",
       "<table border=\"1\" class=\"dataframe\">\n",
       "  <thead>\n",
       "    <tr style=\"text-align: right;\">\n",
       "      <th></th>\n",
       "      <th>marks</th>\n",
       "    </tr>\n",
       "  </thead>\n",
       "  <tbody>\n",
       "    <tr>\n",
       "      <th>208</th>\n",
       "      <td>98.99</td>\n",
       "    </tr>\n",
       "    <tr>\n",
       "      <th>188</th>\n",
       "      <td>53.34</td>\n",
       "    </tr>\n",
       "    <tr>\n",
       "      <th>12</th>\n",
       "      <td>55.90</td>\n",
       "    </tr>\n",
       "    <tr>\n",
       "      <th>221</th>\n",
       "      <td>88.80</td>\n",
       "    </tr>\n",
       "    <tr>\n",
       "      <th>239</th>\n",
       "      <td>43.45</td>\n",
       "    </tr>\n",
       "    <tr>\n",
       "      <th>...</th>\n",
       "      <td>...</td>\n",
       "    </tr>\n",
       "    <tr>\n",
       "      <th>76</th>\n",
       "      <td>50.30</td>\n",
       "    </tr>\n",
       "    <tr>\n",
       "      <th>212</th>\n",
       "      <td>77.74</td>\n",
       "    </tr>\n",
       "    <tr>\n",
       "      <th>225</th>\n",
       "      <td>50.30</td>\n",
       "    </tr>\n",
       "    <tr>\n",
       "      <th>255</th>\n",
       "      <td>77.74</td>\n",
       "    </tr>\n",
       "    <tr>\n",
       "      <th>237</th>\n",
       "      <td>92.34</td>\n",
       "    </tr>\n",
       "  </tbody>\n",
       "</table>\n",
       "<p>90 rows × 1 columns</p>\n",
       "</div>"
      ],
      "text/plain": [
       "     marks\n",
       "208  98.99\n",
       "188  53.34\n",
       "12   55.90\n",
       "221  88.80\n",
       "239  43.45\n",
       "..     ...\n",
       "76   50.30\n",
       "212  77.74\n",
       "225  50.30\n",
       "255  77.74\n",
       "237  92.34\n",
       "\n",
       "[90 rows x 1 columns]"
      ]
     },
     "execution_count": 14,
     "metadata": {},
     "output_type": "execute_result"
    }
   ],
   "source": [
    "y_test"
   ]
  },
  {
   "cell_type": "code",
   "execution_count": 15,
   "metadata": {},
   "outputs": [
    {
     "data": {
      "text/plain": [
       "(210, 3)"
      ]
     },
     "execution_count": 15,
     "metadata": {},
     "output_type": "execute_result"
    }
   ],
   "source": [
    "x_train.shape"
   ]
  },
  {
   "cell_type": "code",
   "execution_count": 16,
   "metadata": {},
   "outputs": [
    {
     "data": {
      "text/plain": [
       "(90, 3)"
      ]
     },
     "execution_count": 16,
     "metadata": {},
     "output_type": "execute_result"
    }
   ],
   "source": [
    "x_test.shape"
   ]
  },
  {
   "cell_type": "code",
   "execution_count": 17,
   "metadata": {},
   "outputs": [],
   "source": [
    "from sklearn.preprocessing import MinMaxScaler\n",
    "scaler = MinMaxScaler()\n",
    "scaler.fit(x_train)\n",
    "X_train_scaled = scaler.transform(x_train)\n",
    "X_test_scaled = scaler.transform(x_test)"
   ]
  },
  {
   "cell_type": "code",
   "execution_count": 18,
   "metadata": {},
   "outputs": [
    {
     "data": {
      "text/plain": [
       "array([[0.74474474, 0.9       , 1.        ],\n",
       "       [0.17017017, 0.1       , 0.        ],\n",
       "       [0.93393393, 0.2       , 0.        ],\n",
       "       [0.44444444, 0.5       , 1.        ],\n",
       "       [0.86786787, 0.7       , 1.        ],\n",
       "       [0.42442442, 0.1       , 0.        ],\n",
       "       [0.68468468, 0.6       , 1.        ],\n",
       "       [0.65665666, 0.        , 0.        ],\n",
       "       [0.17017017, 0.9       , 1.        ],\n",
       "       [0.56756757, 0.8       , 0.        ],\n",
       "       [0.87687688, 0.3       , 0.        ],\n",
       "       [0.68468468, 0.6       , 1.        ],\n",
       "       [0.68468468, 0.2       , 1.        ],\n",
       "       [0.88088088, 0.1       , 1.        ],\n",
       "       [0.56756757, 0.2       , 1.        ],\n",
       "       [0.11111111, 0.1       , 1.        ],\n",
       "       [0.62062062, 0.7       , 1.        ],\n",
       "       [0.86786787, 0.6       , 0.        ],\n",
       "       [0.22222222, 0.1       , 1.        ],\n",
       "       [0.68068068, 1.        , 1.        ],\n",
       "       [0.88088088, 0.1       , 0.        ],\n",
       "       [0.38538539, 0.        , 1.        ],\n",
       "       [0.75575576, 1.        , 1.        ],\n",
       "       [0.65665666, 0.7       , 0.        ],\n",
       "       [0.56756757, 1.        , 1.        ],\n",
       "       [0.74474474, 0.9       , 0.        ],\n",
       "       [0.65665666, 0.8       , 0.        ],\n",
       "       [0.88088088, 0.1       , 1.        ],\n",
       "       [0.42442442, 0.2       , 1.        ],\n",
       "       [0.65565566, 0.6       , 0.        ],\n",
       "       [0.68468468, 0.7       , 1.        ],\n",
       "       [0.2992993 , 1.        , 0.        ],\n",
       "       [0.05005005, 0.6       , 1.        ],\n",
       "       [0.86786787, 0.6       , 0.        ],\n",
       "       [0.93393393, 0.6       , 1.        ],\n",
       "       [0.12312312, 0.7       , 0.        ],\n",
       "       [0.42442442, 0.        , 0.        ],\n",
       "       [0.44444444, 0.1       , 1.        ],\n",
       "       [0.4004004 , 0.1       , 1.        ],\n",
       "       [0.75575576, 0.2       , 1.        ],\n",
       "       [0.62062062, 0.7       , 1.        ],\n",
       "       [0.68468468, 0.7       , 1.        ],\n",
       "       [0.12312312, 1.        , 1.        ],\n",
       "       [0.62062062, 0.        , 0.        ],\n",
       "       [0.93393393, 0.7       , 1.        ],\n",
       "       [0.2992993 , 0.1       , 1.        ],\n",
       "       [0.4004004 , 1.        , 1.        ],\n",
       "       [0.75575576, 0.6       , 0.        ],\n",
       "       [0.64064064, 0.5       , 1.        ],\n",
       "       [0.56756757, 0.        , 0.        ],\n",
       "       [0.68068068, 0.3       , 0.        ],\n",
       "       [0.87687688, 0.5       , 0.        ],\n",
       "       [0.56756757, 0.2       , 1.        ],\n",
       "       [0.86786787, 0.7       , 1.        ],\n",
       "       [0.12312312, 0.6       , 1.        ],\n",
       "       [0.22222222, 0.7       , 1.        ],\n",
       "       [0.22222222, 0.9       , 1.        ],\n",
       "       [0.65665666, 0.2       , 0.        ],\n",
       "       [0.22222222, 0.3       , 1.        ],\n",
       "       [1.        , 0.6       , 0.        ],\n",
       "       [0.12312312, 0.6       , 1.        ],\n",
       "       [0.48048048, 0.9       , 0.        ],\n",
       "       [0.75575576, 1.        , 0.        ],\n",
       "       [0.38538539, 1.        , 0.        ],\n",
       "       [0.05005005, 0.9       , 0.        ],\n",
       "       [1.        , 0.        , 0.        ],\n",
       "       [0.93393393, 1.        , 1.        ],\n",
       "       [0.54954955, 0.6       , 1.        ],\n",
       "       [0.75575576, 1.        , 1.        ],\n",
       "       [0.86786787, 0.9       , 0.        ],\n",
       "       [0.68068068, 0.2       , 1.        ],\n",
       "       [0.75575576, 0.9       , 1.        ],\n",
       "       [0.38538539, 0.        , 1.        ],\n",
       "       [0.65565566, 0.        , 0.        ],\n",
       "       [0.88088088, 0.2       , 0.        ],\n",
       "       [0.4004004 , 0.6       , 1.        ],\n",
       "       [0.62062062, 0.3       , 1.        ],\n",
       "       [0.87687688, 0.9       , 0.        ],\n",
       "       [0.65565566, 0.9       , 1.        ],\n",
       "       [0.3003003 , 0.1       , 1.        ],\n",
       "       [0.54954955, 0.8       , 1.        ],\n",
       "       [0.93393393, 0.2       , 0.        ],\n",
       "       [0.93393393, 0.2       , 1.        ],\n",
       "       [0.42442442, 0.6       , 0.        ],\n",
       "       [0.65565566, 1.        , 0.        ],\n",
       "       [0.22222222, 0.2       , 1.        ],\n",
       "       [0.75575576, 0.6       , 0.        ],\n",
       "       [0.74474474, 1.        , 0.        ],\n",
       "       [0.38538539, 0.1       , 0.        ],\n",
       "       [0.62062062, 0.2       , 0.        ],\n",
       "       [0.68068068, 0.6       , 1.        ],\n",
       "       [0.44444444, 0.2       , 1.        ],\n",
       "       [0.48048048, 0.9       , 1.        ],\n",
       "       [0.05005005, 0.6       , 1.        ],\n",
       "       [0.68468468, 0.        , 0.        ],\n",
       "       [0.64064064, 0.9       , 1.        ],\n",
       "       [0.05005005, 0.1       , 0.        ],\n",
       "       [0.05005005, 0.1       , 0.        ],\n",
       "       [0.17017017, 0.5       , 0.        ],\n",
       "       [0.64064064, 0.        , 0.        ],\n",
       "       [0.62062062, 0.        , 0.        ],\n",
       "       [0.17017017, 0.3       , 0.        ],\n",
       "       [0.74474474, 0.3       , 0.        ],\n",
       "       [0.4004004 , 0.7       , 1.        ],\n",
       "       [0.4004004 , 1.        , 1.        ],\n",
       "       [0.68468468, 0.        , 0.        ],\n",
       "       [0.4004004 , 0.5       , 1.        ],\n",
       "       [0.68468468, 0.2       , 1.        ],\n",
       "       [0.68068068, 0.6       , 0.        ],\n",
       "       [0.65565566, 0.        , 1.        ],\n",
       "       [0.64064064, 0.9       , 1.        ],\n",
       "       [0.42442442, 1.        , 1.        ],\n",
       "       [0.05005005, 0.6       , 1.        ],\n",
       "       [0.2992993 , 0.3       , 0.        ],\n",
       "       [0.48048048, 0.1       , 0.        ],\n",
       "       [0.86786787, 0.1       , 0.        ],\n",
       "       [0.        , 0.5       , 1.        ],\n",
       "       [0.8018018 , 1.        , 0.        ],\n",
       "       [0.88088088, 0.8       , 0.        ],\n",
       "       [0.44444444, 0.3       , 0.        ],\n",
       "       [0.17017017, 0.2       , 0.        ],\n",
       "       [0.        , 0.5       , 1.        ],\n",
       "       [0.3003003 , 0.1       , 1.        ],\n",
       "       [0.11111111, 0.9       , 1.        ],\n",
       "       [0.62062062, 0.1       , 1.        ],\n",
       "       [0.56756757, 1.        , 1.        ],\n",
       "       [0.54954955, 0.5       , 0.        ],\n",
       "       [0.88088088, 0.1       , 1.        ],\n",
       "       [0.53453453, 1.        , 1.        ],\n",
       "       [0.99099099, 0.7       , 0.        ],\n",
       "       [0.56756757, 0.6       , 1.        ],\n",
       "       [0.87687688, 0.9       , 0.        ],\n",
       "       [0.17017017, 0.5       , 0.        ],\n",
       "       [0.65665666, 0.3       , 0.        ],\n",
       "       [0.54954955, 0.2       , 1.        ],\n",
       "       [0.75575576, 0.6       , 0.        ],\n",
       "       [0.2992993 , 0.6       , 0.        ],\n",
       "       [0.11111111, 0.9       , 1.        ],\n",
       "       [0.87687688, 0.5       , 0.        ],\n",
       "       [0.22222222, 0.7       , 1.        ],\n",
       "       [1.        , 0.6       , 0.        ],\n",
       "       [0.74474474, 0.6       , 1.        ],\n",
       "       [0.42442442, 0.9       , 1.        ],\n",
       "       [0.68468468, 0.6       , 1.        ],\n",
       "       [0.12312312, 1.        , 0.        ],\n",
       "       [0.64064064, 0.2       , 0.        ],\n",
       "       [0.56756757, 0.        , 0.        ],\n",
       "       [0.65665666, 0.1       , 1.        ],\n",
       "       [0.87687688, 0.1       , 1.        ],\n",
       "       [0.75575576, 0.7       , 1.        ],\n",
       "       [0.86786787, 1.        , 1.        ],\n",
       "       [0.68468468, 0.6       , 1.        ],\n",
       "       [0.4004004 , 0.9       , 1.        ],\n",
       "       [0.65665666, 0.5       , 1.        ],\n",
       "       [0.48048048, 0.5       , 1.        ],\n",
       "       [0.48048048, 0.5       , 1.        ],\n",
       "       [0.2992993 , 0.9       , 1.        ],\n",
       "       [0.68068068, 0.7       , 1.        ],\n",
       "       [0.75575576, 1.        , 0.        ],\n",
       "       [0.87687688, 0.3       , 0.        ],\n",
       "       [0.8018018 , 1.        , 0.        ],\n",
       "       [0.53453453, 0.7       , 1.        ],\n",
       "       [0.68068068, 0.6       , 1.        ],\n",
       "       [0.65665666, 0.7       , 0.        ],\n",
       "       [0.42442442, 1.        , 0.        ],\n",
       "       [0.74474474, 0.9       , 1.        ],\n",
       "       [0.68468468, 0.5       , 1.        ],\n",
       "       [0.12312312, 0.7       , 0.        ],\n",
       "       [0.54954955, 0.9       , 0.        ],\n",
       "       [0.3003003 , 0.6       , 1.        ],\n",
       "       [0.53453453, 0.6       , 0.        ],\n",
       "       [0.05005005, 0.3       , 1.        ],\n",
       "       [0.54954955, 0.6       , 1.        ],\n",
       "       [0.68068068, 0.6       , 0.        ],\n",
       "       [0.68468468, 0.3       , 1.        ],\n",
       "       [0.54954955, 0.1       , 0.        ],\n",
       "       [0.86786787, 0.9       , 0.        ],\n",
       "       [0.65665666, 0.1       , 1.        ],\n",
       "       [0.48048048, 0.3       , 0.        ],\n",
       "       [0.86786787, 1.        , 0.        ],\n",
       "       [0.65565566, 0.7       , 1.        ],\n",
       "       [0.65565566, 0.        , 1.        ],\n",
       "       [0.65665666, 0.1       , 1.        ],\n",
       "       [0.64064064, 0.6       , 0.        ],\n",
       "       [0.53453453, 0.9       , 1.        ],\n",
       "       [0.48048048, 0.1       , 0.        ],\n",
       "       [0.4004004 , 0.5       , 1.        ],\n",
       "       [0.62062062, 0.1       , 1.        ],\n",
       "       [0.17017017, 0.3       , 0.        ],\n",
       "       [0.48048048, 0.1       , 0.        ],\n",
       "       [0.11111111, 1.        , 0.        ],\n",
       "       [0.56756757, 0.6       , 1.        ],\n",
       "       [0.44444444, 0.2       , 1.        ],\n",
       "       [0.12312312, 1.        , 0.        ],\n",
       "       [0.11111111, 0.9       , 1.        ],\n",
       "       [0.38538539, 0.        , 1.        ],\n",
       "       [0.17017017, 0.1       , 0.        ],\n",
       "       [0.87687688, 0.6       , 1.        ],\n",
       "       [0.53453453, 0.7       , 0.        ],\n",
       "       [0.88088088, 1.        , 0.        ],\n",
       "       [0.64064064, 0.        , 0.        ],\n",
       "       [0.54954955, 0.9       , 0.        ],\n",
       "       [0.42442442, 0.1       , 0.        ],\n",
       "       [0.42442442, 0.1       , 0.        ],\n",
       "       [0.53453453, 1.        , 0.        ],\n",
       "       [0.65665666, 0.1       , 1.        ],\n",
       "       [0.62062062, 0.2       , 1.        ],\n",
       "       [0.05005005, 0.9       , 0.        ],\n",
       "       [0.56756757, 0.6       , 1.        ],\n",
       "       [0.87687688, 0.3       , 0.        ]])"
      ]
     },
     "execution_count": 18,
     "metadata": {},
     "output_type": "execute_result"
    }
   ],
   "source": [
    "X_train_scaled"
   ]
  },
  {
   "cell_type": "code",
   "execution_count": 19,
   "metadata": {},
   "outputs": [
    {
     "data": {
      "text/plain": [
       "array([[0.87687688, 0.9       , 1.        ],\n",
       "       [0.93393393, 0.        , 0.        ],\n",
       "       [0.4004004 , 0.1       , 1.        ],\n",
       "       [0.48048048, 0.1       , 0.        ],\n",
       "       [0.12312312, 0.9       , 1.        ],\n",
       "       [0.38538539, 0.6       , 0.        ],\n",
       "       [0.3003003 , 0.5       , 0.        ],\n",
       "       [0.75575576, 0.7       , 1.        ],\n",
       "       [0.44444444, 0.4       , 1.        ],\n",
       "       [0.74474474, 0.6       , 1.        ],\n",
       "       [0.8018018 , 1.        , 0.        ],\n",
       "       [0.17017017, 0.5       , 1.        ],\n",
       "       [0.56756757, 0.1       , 1.        ],\n",
       "       [0.53453453, 0.9       , 1.        ],\n",
       "       [0.93393393, 0.1       , 1.        ],\n",
       "       [0.65565566, 1.        , 0.        ],\n",
       "       [0.2992993 , 0.6       , 0.        ],\n",
       "       [0.12312312, 0.3       , 1.        ],\n",
       "       [1.        , 0.3       , 0.        ],\n",
       "       [0.53453453, 0.5       , 1.        ],\n",
       "       [0.4004004 , 0.6       , 1.        ],\n",
       "       [0.54954955, 0.3       , 0.        ],\n",
       "       [0.44444444, 0.6       , 1.        ],\n",
       "       [0.86786787, 1.        , 0.        ],\n",
       "       [0.2992993 , 0.9       , 1.        ],\n",
       "       [0.17017017, 0.3       , 0.        ],\n",
       "       [0.05005005, 0.9       , 0.        ],\n",
       "       [0.93393393, 0.7       , 1.        ],\n",
       "       [0.86786787, 0.9       , 0.        ],\n",
       "       [0.2992993 , 1.        , 0.        ],\n",
       "       [0.38538539, 1.        , 0.        ],\n",
       "       [0.68068068, 1.        , 1.        ],\n",
       "       [0.12312312, 0.6       , 1.        ],\n",
       "       [0.65565566, 0.7       , 1.        ],\n",
       "       [0.53453453, 0.7       , 0.        ],\n",
       "       [0.65665666, 0.5       , 1.        ],\n",
       "       [0.38538539, 0.5       , 1.        ],\n",
       "       [0.05005005, 1.        , 0.        ],\n",
       "       [0.34034034, 0.6       , 0.        ],\n",
       "       [0.88088088, 0.1       , 0.        ],\n",
       "       [0.65565566, 1.        , 0.        ],\n",
       "       [0.74474474, 0.1       , 1.        ],\n",
       "       [0.3003003 , 0.5       , 0.        ],\n",
       "       [0.88088088, 0.6       , 0.        ],\n",
       "       [0.54954955, 0.5       , 0.        ],\n",
       "       [0.22222222, 0.1       , 1.        ],\n",
       "       [0.88088088, 0.6       , 0.        ],\n",
       "       [0.64064064, 0.3       , 1.        ],\n",
       "       [0.74474474, 1.        , 0.        ],\n",
       "       [0.05005005, 0.9       , 1.        ],\n",
       "       [0.2992993 , 0.9       , 1.        ],\n",
       "       [0.64064064, 0.9       , 1.        ],\n",
       "       [0.74474474, 0.9       , 1.        ],\n",
       "       [0.88088088, 0.        , 1.        ],\n",
       "       [0.87687688, 0.1       , 1.        ],\n",
       "       [0.86786787, 0.9       , 0.        ],\n",
       "       [0.54954955, 0.9       , 0.        ],\n",
       "       [0.8018018 , 0.        , 1.        ],\n",
       "       [0.42442442, 0.5       , 1.        ],\n",
       "       [0.75575576, 0.2       , 1.        ],\n",
       "       [0.12312312, 1.        , 0.        ],\n",
       "       [0.48048048, 0.9       , 1.        ],\n",
       "       [0.38538539, 0.1       , 1.        ],\n",
       "       [0.56756757, 0.3       , 0.        ],\n",
       "       [0.38538539, 0.6       , 0.        ],\n",
       "       [0.93393393, 0.1       , 1.        ],\n",
       "       [0.54954955, 0.3       , 0.        ],\n",
       "       [0.38538539, 0.1       , 0.        ],\n",
       "       [0.2992993 , 1.        , 1.        ],\n",
       "       [0.53453453, 1.        , 0.        ],\n",
       "       [0.74474474, 1.        , 0.        ],\n",
       "       [0.8018018 , 0.3       , 0.        ],\n",
       "       [0.44444444, 0.6       , 1.        ],\n",
       "       [1.        , 0.5       , 1.        ],\n",
       "       [0.56756757, 0.3       , 0.        ],\n",
       "       [0.42442442, 0.2       , 1.        ],\n",
       "       [0.12312312, 0.9       , 1.        ],\n",
       "       [0.17017017, 0.2       , 0.        ],\n",
       "       [0.68068068, 0.7       , 1.        ],\n",
       "       [0.42442442, 0.5       , 1.        ],\n",
       "       [0.53453453, 1.        , 1.        ],\n",
       "       [0.64064064, 0.2       , 0.        ],\n",
       "       [0.62062062, 0.1       , 1.        ],\n",
       "       [0.4004004 , 1.        , 1.        ],\n",
       "       [0.74474474, 0.3       , 1.        ],\n",
       "       [0.44444444, 0.1       , 1.        ],\n",
       "       [0.38538539, 0.3       , 1.        ],\n",
       "       [0.44444444, 0.        , 1.        ],\n",
       "       [0.88088088, 0.        , 1.        ],\n",
       "       [0.87687688, 0.1       , 1.        ]])"
      ]
     },
     "execution_count": 19,
     "metadata": {},
     "output_type": "execute_result"
    }
   ],
   "source": [
    "X_test_scaled"
   ]
  },
  {
   "cell_type": "code",
   "execution_count": 1,
   "metadata": {},
   "outputs": [],
   "source": [
    "import matplotlib.pyplot as plt\n",
    "import seaborn as sns "
   ]
  },
  {
   "cell_type": "code",
   "execution_count": 22,
   "metadata": {},
   "outputs": [
    {
     "name": "stderr",
     "output_type": "stream",
     "text": [
      "C:\\Users\\Admin\\AppData\\Local\\Temp\\ipykernel_9572\\1733460110.py:4: UserWarning: \n",
      "\n",
      "`distplot` is a deprecated function and will be removed in seaborn v0.14.0.\n",
      "\n",
      "Please adapt your code to use either `displot` (a figure-level function with\n",
      "similar flexibility) or `histplot` (an axes-level function for histograms).\n",
      "\n",
      "For a guide to updating your code to use the new functions, please see\n",
      "https://gist.github.com/mwaskom/de44147ed2974457ad6372750bbe5751\n",
      "\n",
      "  sns.distplot(df['hours'])\n"
     ]
    },
    {
     "data": {
      "image/png": "[encoded data removed]",
      "text/plain": [
       "<Figure size 1152x360 with 1 Axes>"
      ]
     },
     "metadata": {},
     "output_type": "display_data"
    }
   ],
   "source": [
    "plt.figure(figsize=(16,5))\n",
    "\n",
    "plt.subplot(1,2,1)\n",
    "sns.distplot(df['hours'])\n",
    "\n",
    "plt.show() "
   ]
  },
  {
   "cell_type": "code",
   "execution_count": 23,
   "metadata": {},
   "outputs": [
    {
     "name": "stderr",
     "output_type": "stream",
     "text": [
      "C:\\Users\\Admin\\AppData\\Local\\Temp\\ipykernel_9572\\3978773529.py:4: UserWarning: \n",
      "\n",
      "`distplot` is a deprecated function and will be removed in seaborn v0.14.0.\n",
      "\n",
      "Please adapt your code to use either `displot` (a figure-level function with\n",
      "similar flexibility) or `histplot` (an axes-level function for histograms).\n",
      "\n",
      "For a guide to updating your code to use the new functions, please see\n",
      "https://gist.github.com/mwaskom/de44147ed2974457ad6372750bbe5751\n",
      "\n",
      "  sns.distplot(df['age'])\n"
     ]
    },
    {
     "data": {
      "image/png": "[encoded data removed]",
      "text/plain": [
       "<Figure size 1152x360 with 1 Axes>"
      ]
     },
     "metadata": {},
     "output_type": "display_data"
    }
   ],
   "source": [
    "plt.figure(figsize=(16,5))\n",
    "\n",
    "plt.subplot(1,2,1)\n",
    "sns.distplot(df['age'])\n",
    "\n",
    "plt.show() "
   ]
  },
  {
   "cell_type": "code",
   "execution_count": 27,
   "metadata": {},
   "outputs": [
    {
     "name": "stderr",
     "output_type": "stream",
     "text": [
      "C:\\Users\\Admin\\AppData\\Local\\Temp\\ipykernel_9572\\1326446729.py:4: UserWarning: \n",
      "\n",
      "`distplot` is a deprecated function and will be removed in seaborn v0.14.0.\n",
      "\n",
      "Please adapt your code to use either `displot` (a figure-level function with\n",
      "similar flexibility) or `histplot` (an axes-level function for histograms).\n",
      "\n",
      "For a guide to updating your code to use the new functions, please see\n",
      "https://gist.github.com/mwaskom/de44147ed2974457ad6372750bbe5751\n",
      "\n",
      "  sns.distplot(df['internet'])\n"
     ]
    },
    {
     "data": {
      "image/png": "[encoded data removed]",
      "text/plain": [
       "<Figure size 1152x360 with 1 Axes>"
      ]
     },
     "metadata": {},
     "output_type": "display_data"
    }
   ],
   "source": [
    "plt.figure(figsize=(16,5))\n",
    "\n",
    "plt.subplot(1,2,1)\n",
    "sns.distplot(df['internet'])\n",
    "\n",
    "plt.show() "
   ]
  },
  {
   "cell_type": "code",
   "execution_count": 28,
   "metadata": {},
   "outputs": [
    {
     "data": {
      "text/plain": [
       "<seaborn.axisgrid.FacetGrid at 0x19c4d41d760>"
      ]
     },
     "execution_count": 28,
     "metadata": {},
     "output_type": "execute_result"
    },
    {
     "data": {
      "image/png": "[encoded data removed]",
      "text/plain": [
       "<Figure size 360x360 with 1 Axes>"
      ]
     },
     "metadata": {},
     "output_type": "display_data"
    }
   ],
   "source": [
    "sns.displot(df['hours']) "
   ]
  },
  {
   "cell_type": "code",
   "execution_count": 29,
   "metadata": {},
   "outputs": [
    {
     "data": {
      "text/plain": [
       "<seaborn.axisgrid.FacetGrid at 0x19c4d652790>"
      ]
     },
     "execution_count": 29,
     "metadata": {},
     "output_type": "execute_result"
    },
    {
     "data": {
      "image/png": "[encoded data removed]",
      "text/plain": [
       "<Figure size 360x360 with 1 Axes>"
      ]
     },
     "metadata": {},
     "output_type": "display_data"
    }
   ],
   "source": [
    "sns.displot(df['age']) "
   ]
  },
  {
   "cell_type": "code",
   "execution_count": 30,
   "metadata": {},
   "outputs": [
    {
     "data": {
      "text/plain": [
       "<seaborn.axisgrid.FacetGrid at 0x19c4d477790>"
      ]
     },
     "execution_count": 30,
     "metadata": {},
     "output_type": "execute_result"
    },
    {
     "data": {
      "image/png": "[encoded data removed]",
      "text/plain": [
       "<Figure size 360x360 with 1 Axes>"
      ]
     },
     "metadata": {},
     "output_type": "display_data"
    }
   ],
   "source": [
    "sns.displot(df['internet']) "
   ]
  },
  {
   "cell_type": "code",
   "execution_count": 31,
   "metadata": {},
   "outputs": [
    {
     "data": {
      "text/plain": [
       "<AxesSubplot:ylabel='hours'>"
      ]
     },
     "execution_count": 31,
     "metadata": {},
     "output_type": "execute_result"
    },
    {
     "data": {
      "image/png": "[encoded data removed]",
      "text/plain": [
       "<Figure size 432x288 with 1 Axes>"
      ]
     },
     "metadata": {},
     "output_type": "display_data"
    }
   ],
   "source": [
    "sns.boxplot(df['hours']) "
   ]
  },
  {
   "cell_type": "code",
   "execution_count": 32,
   "metadata": {},
   "outputs": [
    {
     "data": {
      "text/plain": [
       "<AxesSubplot:ylabel='age'>"
      ]
     },
     "execution_count": 32,
     "metadata": {},
     "output_type": "execute_result"
    },
    {
     "data": {
      "image/png": "[encoded data removed]",
      "text/plain": [
       "<Figure size 432x288 with 1 Axes>"
      ]
     },
     "metadata": {},
     "output_type": "display_data"
    }
   ],
   "source": [
    "sns.boxplot(df['age']) "
   ]
  },
  {
   "cell_type": "code",
   "execution_count": 33,
   "metadata": {},
   "outputs": [
    {
     "data": {
      "text/plain": [
       "<AxesSubplot:ylabel='internet'>"
      ]
     },
     "execution_count": 33,
     "metadata": {},
     "output_type": "execute_result"
    },
    {
     "data": {
      "image/png": "[encoded data removed]",
      "text/plain": [
       "<Figure size 432x288 with 1 Axes>"
      ]
     },
     "metadata": {},
     "output_type": "display_data"
    }
   ],
   "source": [
    "sns.boxplot(df['internet']) "
   ]
  },
  {
   "cell_type": "code",
   "execution_count": null,
   "metadata": {},
   "outputs": [],
   "source": []
  }
 ],
 "metadata": {
  "kernelspec": {
   "display_name": "Python 3",
   "language": "python",
   "name": "python3"
  },
  "language_info": {
   "codemirror_mode": {
    "name": "ipython",
    "version": 3
   },
   "file_extension": ".py",
   "mimetype": "text/x-python",
   "name": "python",
   "nbconvert_exporter": "python",
   "pygments_lexer": "ipython3",
   "version": "3.9.6"
  }
 },
 "nbformat": 4,
 "nbformat_minor": 2
}
