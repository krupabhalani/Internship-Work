{
 "cells": [
  {
   "cell_type": "code",
   "execution_count": 1,
   "metadata": {},
   "outputs": [
    {
     "name": "stdout",
     "output_type": "stream",
     "text": [
      "WARNING:tensorflow:From c:\\Users\\Admin\\AppData\\Local\\Programs\\Python\\Python39\\lib\\site-packages\\keras\\src\\losses.py:2976: The name tf.losses.sparse_softmax_cross_entropy is deprecated. Please use tf.compat.v1.losses.sparse_softmax_cross_entropy instead.\n",
      "\n"
     ]
    }
   ],
   "source": [
    "import tensorflow as tf\n",
    "import matplotlib.pyplot as plt\n",
    "from mlxtend.plotting import plot_decision_regions\n",
    "from tensorflow import keras\n",
    "from keras.models import Sequential\n",
    "from keras.layers import Dense\n",
    "from keras.callbacks import EarlyStopping\n",
    "from sklearn.model_selection import train_test_split\n",
    "from sklearn.datasets import make_circles "
   ]
  },
  {
   "cell_type": "code",
   "execution_count": 2,
   "metadata": {},
   "outputs": [],
   "source": [
    "X, y = make_circles(n_samples=100, noise=0.1, random_state=1)"
   ]
  },
  {
   "cell_type": "code",
   "execution_count": 3,
   "metadata": {},
   "outputs": [],
   "source": [
    "X_train, X_test, y_train, y_test = train_test_split(X, y, test_size=0.20, random_state=2)"
   ]
  },
  {
   "cell_type": "code",
   "execution_count": 4,
   "metadata": {},
   "outputs": [
    {
     "name": "stdout",
     "output_type": "stream",
     "text": [
      "WARNING:tensorflow:From c:\\Users\\Admin\\AppData\\Local\\Programs\\Python\\Python39\\lib\\site-packages\\keras\\src\\backend.py:873: The name tf.get_default_graph is deprecated. Please use tf.compat.v1.get_default_graph instead.\n",
      "\n"
     ]
    }
   ],
   "source": [
    "model = Sequential()\n",
    "model.add(Dense(256, input_dim=2, activation='relu'))\n",
    "model.add(Dense(1, activation='sigmoid'))"
   ]
  },
  {
   "cell_type": "code",
   "execution_count": 5,
   "metadata": {},
   "outputs": [
    {
     "name": "stdout",
     "output_type": "stream",
     "text": [
      "Model: \"sequential\"\n",
      "_________________________________________________________________\n",
      " Layer (type)                Output Shape              Param #   \n",
      "=================================================================\n",
      " dense (Dense)               (None, 256)               768       \n",
      "                                                                 \n",
      " dense_1 (Dense)             (None, 1)                 257       \n",
      "                                                                 \n",
      "=================================================================\n",
      "Total params: 1025 (4.00 KB)\n",
      "Trainable params: 1025 (4.00 KB)\n",
      "Non-trainable params: 0 (0.00 Byte)\n",
      "_________________________________________________________________\n"
     ]
    }
   ],
   "source": [
    "model.summary()"
   ]
  },
  {
   "cell_type": "code",
   "execution_count": 6,
   "metadata": {},
   "outputs": [
    {
     "name": "stdout",
     "output_type": "stream",
     "text": [
      "WARNING:tensorflow:From c:\\Users\\Admin\\AppData\\Local\\Programs\\Python\\Python39\\lib\\site-packages\\keras\\src\\optimizers\\__init__.py:309: The name tf.train.Optimizer is deprecated. Please use tf.compat.v1.train.Optimizer instead.\n",
      "\n"
     ]
    }
   ],
   "source": [
    "model.compile(loss='binary_crossentropy',metrics=['accuracy'],optimizer='adam')"
   ]
  },
  {
   "cell_type": "code",
   "execution_count": 7,
   "metadata": {},
   "outputs": [],
   "source": [
    "callback = EarlyStopping(\n",
    "    monitor=\"val_loss\",\n",
    "    min_delta=0.00001,\n",
    "    patience=20,\n",
    "    verbose=1,\n",
    "    mode=\"auto\",\n",
    "    baseline=None,\n",
    "    restore_best_weights=False\n",
    ")"
   ]
  },
  {
   "cell_type": "code",
   "execution_count": 8,
   "metadata": {},
   "outputs": [
    {
     "name": "stdout",
     "output_type": "stream",
     "text": [
      "Epoch 1/500\n",
      "WARNING:tensorflow:From c:\\Users\\Admin\\AppData\\Local\\Programs\\Python\\Python39\\lib\\site-packages\\keras\\src\\utils\\tf_utils.py:492: The name tf.ragged.RaggedTensorValue is deprecated. Please use tf.compat.v1.ragged.RaggedTensorValue instead.\n",
      "\n",
      "WARNING:tensorflow:From c:\\Users\\Admin\\AppData\\Local\\Programs\\Python\\Python39\\lib\\site-packages\\keras\\src\\engine\\base_layer_utils.py:384: The name tf.executing_eagerly_outside_functions is deprecated. Please use tf.compat.v1.executing_eagerly_outside_functions instead.\n",
      "\n",
      "3/3 [==============================] - 2s 141ms/step - loss: 0.6903 - accuracy: 0.4750 - val_loss: 0.6945 - val_accuracy: 0.5000\n",
      "Epoch 2/500\n",
      "3/3 [==============================] - 0s 28ms/step - loss: 0.6885 - accuracy: 0.4875 - val_loss: 0.6982 - val_accuracy: 0.4500\n",
      "Epoch 3/500\n",
      "3/3 [==============================] - 0s 26ms/step - loss: 0.6868 - accuracy: 0.5375 - val_loss: 0.7018 - val_accuracy: 0.4500\n",
      "Epoch 4/500\n",
      "3/3 [==============================] - 0s 28ms/step - loss: 0.6867 - accuracy: 0.5125 - val_loss: 0.7058 - val_accuracy: 0.4000\n",
      "Epoch 5/500\n",
      "3/3 [==============================] - 0s 26ms/step - loss: 0.6850 - accuracy: 0.5500 - val_loss: 0.7069 - val_accuracy: 0.4000\n",
      "Epoch 6/500\n",
      "3/3 [==============================] - 0s 28ms/step - loss: 0.6843 - accuracy: 0.5500 - val_loss: 0.7074 - val_accuracy: 0.4000\n",
      "Epoch 7/500\n",
      "3/3 [==============================] - 0s 27ms/step - loss: 0.6835 - accuracy: 0.5500 - val_loss: 0.7083 - val_accuracy: 0.4000\n",
      "Epoch 8/500\n",
      "3/3 [==============================] - 0s 35ms/step - loss: 0.6832 - accuracy: 0.5500 - val_loss: 0.7085 - val_accuracy: 0.4000\n",
      "Epoch 9/500\n",
      "3/3 [==============================] - 0s 28ms/step - loss: 0.6823 - accuracy: 0.5500 - val_loss: 0.7091 - val_accuracy: 0.4000\n",
      "Epoch 10/500\n",
      "3/3 [==============================] - 0s 27ms/step - loss: 0.6815 - accuracy: 0.5625 - val_loss: 0.7104 - val_accuracy: 0.4000\n",
      "Epoch 11/500\n",
      "3/3 [==============================] - 0s 28ms/step - loss: 0.6810 - accuracy: 0.5625 - val_loss: 0.7122 - val_accuracy: 0.4000\n",
      "Epoch 12/500\n",
      "3/3 [==============================] - 0s 27ms/step - loss: 0.6806 - accuracy: 0.5500 - val_loss: 0.7135 - val_accuracy: 0.4000\n",
      "Epoch 13/500\n",
      "3/3 [==============================] - 0s 32ms/step - loss: 0.6799 - accuracy: 0.5500 - val_loss: 0.7143 - val_accuracy: 0.4000\n",
      "Epoch 14/500\n",
      "3/3 [==============================] - 0s 42ms/step - loss: 0.6791 - accuracy: 0.5625 - val_loss: 0.7142 - val_accuracy: 0.4000\n",
      "Epoch 15/500\n",
      "3/3 [==============================] - 0s 35ms/step - loss: 0.6787 - accuracy: 0.5750 - val_loss: 0.7143 - val_accuracy: 0.4000\n",
      "Epoch 16/500\n",
      "3/3 [==============================] - 0s 54ms/step - loss: 0.6784 - accuracy: 0.5875 - val_loss: 0.7147 - val_accuracy: 0.4000\n",
      "Epoch 17/500\n",
      "3/3 [==============================] - 0s 32ms/step - loss: 0.6778 - accuracy: 0.5750 - val_loss: 0.7141 - val_accuracy: 0.4000\n",
      "Epoch 18/500\n",
      "3/3 [==============================] - 0s 28ms/step - loss: 0.6776 - accuracy: 0.5875 - val_loss: 0.7140 - val_accuracy: 0.4000\n",
      "Epoch 19/500\n",
      "3/3 [==============================] - 0s 27ms/step - loss: 0.6769 - accuracy: 0.5750 - val_loss: 0.7154 - val_accuracy: 0.4000\n",
      "Epoch 20/500\n",
      "3/3 [==============================] - 0s 27ms/step - loss: 0.6765 - accuracy: 0.5750 - val_loss: 0.7161 - val_accuracy: 0.4000\n",
      "Epoch 21/500\n",
      "3/3 [==============================] - 0s 26ms/step - loss: 0.6759 - accuracy: 0.5625 - val_loss: 0.7172 - val_accuracy: 0.4000\n",
      "Epoch 21: early stopping\n"
     ]
    }
   ],
   "source": [
    "history=model.fit(X_train,y_train,validation_data=(X_test,y_test),epochs=500,callbacks=callback)"
   ]
  },
  {
   "cell_type": "code",
   "execution_count": 9,
   "metadata": {},
   "outputs": [
    {
     "data": {
      "text/plain": [
       "[<matplotlib.lines.Line2D at 0x1d635d4fdc0>]"
      ]
     },
     "execution_count": 9,
     "metadata": {},
     "output_type": "execute_result"
    },
    {
     "data": {
      "image/png": "[encoded data removed]",
      "text/plain": [
       "<Figure size 432x288 with 1 Axes>"
      ]
     },
     "metadata": {},
     "output_type": "display_data"
    }
   ],
   "source": [
    "plt.plot(history.history['loss'],label='train')\n",
    "plt.plot(history.history['val_loss'],label='train')"
   ]
  },
  {
   "cell_type": "code",
   "execution_count": null,
   "metadata": {},
   "outputs": [],
   "source": []
  }
 ],
 "metadata": {
  "kernelspec": {
   "display_name": "Python 3",
   "language": "python",
   "name": "python3"
  },
  "language_info": {
   "codemirror_mode": {
    "name": "ipython",
    "version": 3
   },
   "file_extension": ".py",
   "mimetype": "text/x-python",
   "name": "python",
   "nbconvert_exporter": "python",
   "pygments_lexer": "ipython3",
   "version": "3.9.6"
  }
 },
 "nbformat": 4,
 "nbformat_minor": 2
}
